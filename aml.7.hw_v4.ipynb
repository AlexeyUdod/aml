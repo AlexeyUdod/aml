{
 "cells": [
  {
   "cell_type": "code",
   "execution_count": 1,
   "metadata": {},
   "outputs": [],
   "source": [
    "import numpy as np\n",
    "from functools import reduce\n",
    "from sympy import *\n",
    "from sympy.utilities.lambdify import lambdify"
   ]
  },
  {
   "cell_type": "code",
   "execution_count": 5,
   "metadata": {},
   "outputs": [],
   "source": [
    "def x4T(x,T): return np.column_stack([x**i for i in range(T.shape[0])]) \n",
    "def polynom(x,T): return np.dot(x4T(x,np.array(T)), np.array(T))\n",
    "def MSE(target): return (polynom(Symbol('x'), target)[0] - Symbol('y_real'))**2/2/(n:= Symbol('n'))\n",
    "def EMA(x_sum, x, gamma=0.5): return np.array(gamma * np.array(x_sum) + (1 - gamma) * np.array(x))\n",
    "def RMS(g, grad, alpha=0.01, eta=0.5, et=np.power(10.,-1)): return np.array(alpha*grad) / (np.array(EMA(g, np.array(grad)**2, eta) + et)**0.5)\n",
    "\n",
    "def GD(func, target_name, arity, n_iter, var, alpha, gamma, eta, **k):\n",
    "    target_val= np.ones(arity+1)\n",
    "    var.update({'target': (target:= Array([((locals().update({f'{target_name}{t}': (k:= Symbol(f'{target_name}{t}'))}) is None) & k) for t in range(np.array(target_val).shape[0])])),\n",
    "                 **{str(t): target_val[i] for i, t in enumerate(target)}})\n",
    "    func = func(target)\n",
    "    derr = diff(func, target)\n",
    "    display(Eq(fx:= (Function(Symbol('f_cost'))(target)), func), Eq(diff(fx, target)[0], derr))\n",
    "    var_nt_names = list(derr.free_symbols - set(target))\n",
    "    var_nt_vals = [var[str(i)] for i in var_nt_names]\n",
    "    derr = Array(map(np.sum, lambdify(var_nt_names, derr)(*var_nt_vals)))\n",
    "    var_names = Array(list(derr.free_symbols))\n",
    "    v = derr * 0\n",
    "    g = 0\n",
    "    \n",
    "    for i in range(n_iter):\n",
    "        sub = [(name, var[str(name)] - gamma * v[i]) for i, name in enumerate(target)]\n",
    "        target_val = target_val - np.array(v:= EMA(v, np.array(g:= RMS(g, derr.subs(sub), alpha, eta)), gamma))\n",
    "        target_val_dict ={str(x):target_val[i] for i, x in enumerate(var['target'])}\n",
    "        var.update(target_val_dict)\n",
    "        \n",
    "    display(Eq(Symbol('n_iter'), n_iter), Eq(Symbol('alpha_learn'), alpha), Eq(Symbol('gamma_Nesterov'), gamma), Eq(Symbol('eta_RMSProp'), eta), Eq(target, Array(target_val)))\n",
    "    return target_val_dict\n",
    "\n"
   ]
  },
  {
   "cell_type": "code",
   "execution_count": 6,
   "metadata": {},
   "outputs": [
    {
     "data": {
      "text/latex": [
       "$\\displaystyle \\operatorname{f_{cost}}{\\left(\\left[\\begin{matrix}\\theta_{0} & \\theta_{1}\\end{matrix}\\right] \\right)} = \\frac{\\left(\\theta_{0} + \\theta_{1} x - y_{real}\\right)^{2}}{2 n}$"
      ],
      "text/plain": [
       "Eq(f_cost([theta0, theta1]), (theta0 + theta1*x - y_real)**2/(2*n))"
      ]
     },
     "metadata": {},
     "output_type": "display_data"
    },
    {
     "data": {
      "text/latex": [
       "$\\displaystyle \\frac{\\partial}{\\partial \\left[\\begin{matrix}\\theta_{0} & \\theta_{1}\\end{matrix}\\right]} \\operatorname{f_{cost}}{\\left(\\left[\\begin{matrix}\\theta_{0} & \\theta_{1}\\end{matrix}\\right] \\right)} = \\left[\\begin{matrix}\\frac{2 \\theta_{0} + 2 \\theta_{1} x - 2 y_{real}}{2 n} & \\frac{x \\left(\\theta_{0} + \\theta_{1} x - y_{real}\\right)}{n}\\end{matrix}\\right]$"
      ],
      "text/plain": [
       "Eq(Derivative(f_cost([theta0, theta1]), [theta0, theta1]), [(2*theta0 + 2*theta1*x - 2*y_real)/(2*n), x*(theta0 + theta1*x - y_real)/n])"
      ]
     },
     "metadata": {},
     "output_type": "display_data"
    },
    {
     "data": {
      "text/latex": [
       "$\\displaystyle n_{iter} = 100$"
      ],
      "text/plain": [
       "Eq(n_iter, 100)"
      ]
     },
     "metadata": {},
     "output_type": "display_data"
    },
    {
     "data": {
      "text/latex": [
       "$\\displaystyle \\alpha_{learn} = 0.04$"
      ],
      "text/plain": [
       "Eq(alpha_learn, 0.04)"
      ]
     },
     "metadata": {},
     "output_type": "display_data"
    },
    {
     "data": {
      "text/latex": [
       "$\\displaystyle \\gamma_{Nesterov} = 0.5$"
      ],
      "text/plain": [
       "Eq(gamma_Nesterov, 0.5)"
      ]
     },
     "metadata": {},
     "output_type": "display_data"
    },
    {
     "data": {
      "text/latex": [
       "$\\displaystyle \\eta_{RMSProp} = 0$"
      ],
      "text/plain": [
       "Eq(eta_RMSProp, 0)"
      ]
     },
     "metadata": {},
     "output_type": "display_data"
    },
    {
     "data": {
      "text/latex": [
       "$\\displaystyle \\left[\\begin{matrix}\\theta_{0} & \\theta_{1}\\end{matrix}\\right] = \\left[\\begin{matrix}1.99999684016421 & 2.99522226927413\\end{matrix}\\right]$"
      ],
      "text/plain": [
       "Eq([theta0, theta1], [1.99999684016421, 2.99522226927413])"
      ]
     },
     "metadata": {},
     "output_type": "display_data"
    }
   ],
   "source": [
    "# Nesterov\n",
    "\n",
    "params = { 'func': MSE,\n",
    "           'arity':1,               # prediction polynom arity\n",
    "           'target_name':'theta', \n",
    "           'var': {'x': (X:=np.linspace(-10,10,100)), \n",
    "                   'n':  X.shape[0], \n",
    "                   'y_real': (Y_real:=polynom(X, (Theta_real:=[2,3])))},\n",
    "           'n_iter': 100,\n",
    "           'alpha': 0.04,\n",
    "           'gamma': 0.5,            # Nesterov koef\n",
    "           'eta': 0}                # RMSProp koef\n",
    "\n",
    "thetas = GD(**params)"
   ]
  },
  {
   "cell_type": "code",
   "execution_count": 7,
   "metadata": {},
   "outputs": [
    {
     "data": {
      "text/latex": [
       "$\\displaystyle \\operatorname{f_{cost}}{\\left(\\left[\\begin{matrix}\\theta_{0} & \\theta_{1}\\end{matrix}\\right] \\right)} = \\frac{\\left(\\theta_{0} + \\theta_{1} x - y_{real}\\right)^{2}}{2 n}$"
      ],
      "text/plain": [
       "Eq(f_cost([theta0, theta1]), (theta0 + theta1*x - y_real)**2/(2*n))"
      ]
     },
     "metadata": {},
     "output_type": "display_data"
    },
    {
     "data": {
      "text/latex": [
       "$\\displaystyle \\frac{\\partial}{\\partial \\left[\\begin{matrix}\\theta_{0} & \\theta_{1}\\end{matrix}\\right]} \\operatorname{f_{cost}}{\\left(\\left[\\begin{matrix}\\theta_{0} & \\theta_{1}\\end{matrix}\\right] \\right)} = \\left[\\begin{matrix}\\frac{2 \\theta_{0} + 2 \\theta_{1} x - 2 y_{real}}{2 n} & \\frac{x \\left(\\theta_{0} + \\theta_{1} x - y_{real}\\right)}{n}\\end{matrix}\\right]$"
      ],
      "text/plain": [
       "Eq(Derivative(f_cost([theta0, theta1]), [theta0, theta1]), [(2*theta0 + 2*theta1*x - 2*y_real)/(2*n), x*(theta0 + theta1*x - y_real)/n])"
      ]
     },
     "metadata": {},
     "output_type": "display_data"
    },
    {
     "data": {
      "text/latex": [
       "$\\displaystyle n_{iter} = 100$"
      ],
      "text/plain": [
       "Eq(n_iter, 100)"
      ]
     },
     "metadata": {},
     "output_type": "display_data"
    },
    {
     "data": {
      "text/latex": [
       "$\\displaystyle \\alpha_{learn} = 0.04$"
      ],
      "text/plain": [
       "Eq(alpha_learn, 0.04)"
      ]
     },
     "metadata": {},
     "output_type": "display_data"
    },
    {
     "data": {
      "text/latex": [
       "$\\displaystyle \\gamma_{Nesterov} = 0$"
      ],
      "text/plain": [
       "Eq(gamma_Nesterov, 0)"
      ]
     },
     "metadata": {},
     "output_type": "display_data"
    },
    {
     "data": {
      "text/latex": [
       "$\\displaystyle \\eta_{RMSProp} = 0.5$"
      ],
      "text/plain": [
       "Eq(eta_RMSProp, 0.5)"
      ]
     },
     "metadata": {},
     "output_type": "display_data"
    },
    {
     "data": {
      "text/latex": [
       "$\\displaystyle \\left[\\begin{matrix}\\theta_{0} & \\theta_{1}\\end{matrix}\\right] = \\left[\\begin{matrix}1.99999692615498 & 3.02189598601617\\end{matrix}\\right]$"
      ],
      "text/plain": [
       "Eq([theta0, theta1], [1.99999692615498, 3.02189598601617])"
      ]
     },
     "metadata": {},
     "output_type": "display_data"
    }
   ],
   "source": [
    "# RMSProp\n",
    "\n",
    "params = { 'func': MSE,\n",
    "           'arity':1,               # prediction polynom arity\n",
    "           'target_name':'theta', \n",
    "           'var': {'x': (X:=np.linspace(-10,10,100)), \n",
    "                   'n':  X.shape[0], \n",
    "                   'y_real': (Y_real:=polynom(X, (Theta_real:=[2,3])))},\n",
    "           'n_iter': 100,\n",
    "           'alpha': 0.04,\n",
    "           'gamma': 0,              # Nesterov koef\n",
    "           'eta': 0.5}              # RMSProp koef\n",
    "\n",
    "thetas = GD(**params)"
   ]
  },
  {
   "cell_type": "code",
   "execution_count": null,
   "metadata": {},
   "outputs": [],
   "source": []
  }
 ],
 "metadata": {
  "kernelspec": {
   "display_name": "Python 3",
   "language": "python",
   "name": "python3"
  },
  "language_info": {
   "codemirror_mode": {
    "name": "ipython",
    "version": 3
   },
   "file_extension": ".py",
   "mimetype": "text/x-python",
   "name": "python",
   "nbconvert_exporter": "python",
   "pygments_lexer": "ipython3",
   "version": "3.8.3"
  }
 },
 "nbformat": 4,
 "nbformat_minor": 4
}
