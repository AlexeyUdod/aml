{
  "nbformat": 4,
  "nbformat_minor": 0,
  "metadata": {
    "kernelspec": {
      "display_name": "Python 3",
      "language": "python",
      "name": "python3"
    },
    "language_info": {
      "codemirror_mode": {
        "name": "ipython",
        "version": 3
      },
      "file_extension": ".py",
      "mimetype": "text/x-python",
      "name": "python",
      "nbconvert_exporter": "python",
      "pygments_lexer": "ipython3",
      "version": "3.8.3"
    },
    "colab": {
      "name": "dll.1.hw.ipynb",
      "provenance": [],
      "include_colab_link": true
    }
  },
  "cells": [
    {
      "cell_type": "markdown",
      "metadata": {
        "id": "view-in-github",
        "colab_type": "text"
      },
      "source": [
        "<a href=\"https://colab.research.google.com/github/AlexeyUdod/aml/blob/master/dll_1_hw.ipynb\" target=\"_parent\"><img src=\"https://colab.research.google.com/assets/colab-badge.svg\" alt=\"Open In Colab\"/></a>"
      ]
    },
    {
      "cell_type": "markdown",
      "metadata": {
        "id": "tpv-FEsMqlLd"
      },
      "source": [
        "Домашнее задание\n",
        "\n",
        "1. Реализовать обучение линейной регрессии для задачи boston house prices (https://www.kaggle.com/vikrishnan/boston-house-prices) с использованием torch’а\n",
        "\n",
        "** 2. Реализовать наивный баесовский классификатор для MNIST (взяв всего 2 цифры “1” и “2”) сравнить с sclearn’овским"
      ]
    },
    {
      "cell_type": "markdown",
      "metadata": {
        "id": "YdXQpUWlqlLe"
      },
      "source": [
        "1.  Реализовать обучение линейной регрессии для задачи boston house prices (https://www.kaggle.com/vikrishnan/boston-house-prices) с использованием torch’а"
      ]
    },
    {
      "cell_type": "code",
      "metadata": {
        "id": "y5eQO0EhqlLe"
      },
      "source": [
        "import pandas as pd\n",
        "from torch.utils.data import TensorDataset, DataLoader\n",
        "import torch as tr\n",
        "from tqdm import tqdm\n",
        "import seaborn as sns\n",
        "from sklearn.datasets import load_boston, load_digits\n",
        "from random import shuffle\n",
        "from functools import *\n",
        "import torchvision as tv\n",
        "import torch\n",
        "from sklearn.naive_bayes import CategoricalNB as CNB\n",
        "from sklearn.metrics import accuracy_score as acc\n",
        "import matplotlib.pyplot as plt"
      ],
      "execution_count": 1,
      "outputs": []
    },
    {
      "cell_type": "code",
      "metadata": {
        "id": "FzDfR833qlLe"
      },
      "source": [
        "data = tr.tensor(load_boston()['data']).float()\n",
        "target = tr.tensor(load_boston()['target']).float()\n",
        "\n",
        "batch_size = int(data.shape[0] / 11)\n",
        "dataset = TensorDataset(data, target)\n",
        "data_iter = DataLoader(dataset, batch_size, shuffle=True)\n",
        "n_features = dataset.tensors[0].shape[1]\n",
        "X_all = dataset.tensors[0]\n",
        "y_all = dataset.tensors[1]"
      ],
      "execution_count": 2,
      "outputs": []
    },
    {
      "cell_type": "code",
      "metadata": {
        "colab": {
          "base_uri": "https://localhost:8080/",
          "height": 389
        },
        "id": "oR9mrtJUqlLf",
        "outputId": "84ecb807-f4ad-48dd-f913-051f1ddf64c2"
      },
      "source": [
        "model = tr.nn.Linear(n_features, 1)\n",
        "loss = tr.nn.MSELoss(reduction='mean')\n",
        "trainer = tr.optim.Adam(model.parameters(), lr = 0.0001)\n",
        "n_epochs = 500\n",
        "history = []\n",
        "model.weight.data = tr.ones(n_features, requires_grad = True).reshape((1,-1))\n",
        "model.bias.data = tr.ones(1, requires_grad = True)\n",
        "\n",
        "for epoch in tqdm(range(1, n_epochs + 1)):\n",
        "    for X, y in data_iter:\n",
        "        trainer.zero_grad()\n",
        "        y_pred = model.forward(X).reshape(-1)\n",
        "        l = loss(y_pred, y)\n",
        "        l.backward()\n",
        "        trainer.step()\n",
        "    history.append((epoch, loss(model.forward(X_all).reshape(-1), y_all)))\n",
        "    \n",
        "print(f'loss = {epoch, loss(model.forward(X_all).reshape(-1), y_all)}')\n",
        "h = tr.tensor(history)\n",
        "sns.lineplot(h[:,0], h[:,1])\n",
        "plt.title('loss / iters')"
      ],
      "execution_count": 5,
      "outputs": [
        {
          "output_type": "stream",
          "text": [
            "100%|██████████| 500/500 [00:05<00:00, 87.93it/s]\n",
            "/usr/local/lib/python3.6/dist-packages/seaborn/_decorators.py:43: FutureWarning: Pass the following variables as keyword args: x, y. From version 0.12, the only valid positional argument will be `data`, and passing other arguments without an explicit keyword will result in an error or misinterpretation.\n",
            "  FutureWarning\n"
          ],
          "name": "stderr"
        },
        {
          "output_type": "stream",
          "text": [
            "loss = (500, tensor(197454.2969, grad_fn=<MseLossBackward>))\n"
          ],
          "name": "stdout"
        },
        {
          "output_type": "execute_result",
          "data": {
            "text/plain": [
              "Text(0.5, 1.0, 'loss / iters')"
            ]
          },
          "metadata": {
            "tags": []
          },
          "execution_count": 5
        },
        {
          "output_type": "display_data",
          "data": {
            "image/png": "[encoded data removed]",
            "text/plain": [
              "<Figure size 432x288 with 1 Axes>"
            ]
          },
          "metadata": {
            "tags": [],
            "needs_background": "light"
          }
        }
      ]
    },
    {
      "cell_type": "markdown",
      "metadata": {
        "id": "48khn0ofqlLg"
      },
      "source": [
        "** 2. Реализовать наивный баесовский классификатор для MNIST (взяв всего 2 цифры “1” и “2”) сравнить с sclearn’овским"
      ]
    },
    {
      "cell_type": "code",
      "metadata": {
        "id": "F1DZg2-YqlLg"
      },
      "source": [
        "def data2batch(z, batch_size):\n",
        "    zi = list(range(z.shape[0]))\n",
        "    shuffle(zi)\n",
        "    zr = z[zi]\n",
        "    res = zr[slice(0, batch_size)].unsqueeze(0)\n",
        "    for n in range(batch_size, z.shape[0], batch_size):   \n",
        "        r = (zr[slice(n, n + batch_size)].unsqueeze(0))\n",
        "        if (r.shape[1]==batch_size):\n",
        "            res = tr.cat((res, r), axis=0)\n",
        "    return res\n",
        "\n",
        "def y2ohe(y):\n",
        "    r = tr.zeros(10)\n",
        "    r[int(y[0])] = 1\n",
        "    y_ohe = r.unsqueeze(0)\n",
        "    for n in y[1:]:\n",
        "        r = tr.zeros(10)\n",
        "        r[int(n)] = 1\n",
        "        y_ohe = tr.cat((y_ohe, r.unsqueeze(0)), axis=0)\n",
        "    return y_ohe\n",
        "\n",
        "def norm(x): return (x - x.mean())/(x.max() - x.min())\n",
        "def softmax(y_pred): return tr.div(tr.exp((norm(y_pred))), tr.sum(tr.exp((norm(y_pred))), axis=1).unsqueeze(1))\n",
        "def MSE(y_ohe, y_prob): return tr.sum((y_ohe - y_prob)**2)\n",
        "def score(y, y_prob): return tr.sum(tr.argmax(y_prob, axis=1) == y).item()/ y.shape[0]\n"
      ],
      "execution_count": 7,
      "outputs": []
    },
    {
      "cell_type": "code",
      "metadata": {
        "colab": {
          "base_uri": "https://localhost:8080/",
          "height": 406
        },
        "id": "HWi15hq-qlLh",
        "outputId": "82a29fab-4f33-49ac-90f0-2f40d098d954"
      },
      "source": [
        "X = tr.tensor(load_digits()['data']).float()\n",
        "Y = tr.tensor(load_digits()['target']).float()\n",
        "z = tr.cat((X.float(), Y.float().unsqueeze(1)),axis=1)\n",
        "res = data2batch(z, 50)\n",
        "w1 = tr.rand(Y.unique().shape[0], X.shape[1], requires_grad=True)\n",
        "b1 = tr.rand(1 , requires_grad=True)\n",
        "lr = 0.01\n",
        "l_his = []\n",
        "n_iter = 100\n",
        "for i in tqdm(range(n_iter)):\n",
        "    for batch in (data2batch(z, 100)):\n",
        "        x = batch[:,:-1]\n",
        "        y = batch[:,-1]\n",
        "        y_ohe = y2ohe(y)\n",
        "        y_pred = tr.mm(x, w1.T) + b1 \n",
        "        y_prob = softmax(y_pred)\n",
        "        l = MSE(y_ohe, y_prob)\n",
        "        l.backward()\n",
        "        w1.detach_()\n",
        "        b1.detach_()\n",
        "        w1 -= (w1.grad * lr)\n",
        "        b1 -= b1.grad * lr\n",
        "        w1.requires_grad_(True)\n",
        "        b1.requires_grad_(True)  \n",
        "    l_his.append(l.item())\n",
        "\n",
        "print(f'model loss {l}')\n",
        "\n",
        "# model evaluate\n",
        "y_pred = tr.mm(X, w1.T) + b1 \n",
        "y_prob = softmax(y_pred)\n",
        "\n",
        "print(f'model score: {score(Y, y_prob)}')\n",
        "sns.lineplot(range(n_iter), l_his )\n",
        "plt.title('loss / iters')"
      ],
      "execution_count": 8,
      "outputs": [
        {
          "output_type": "stream",
          "text": [
            "100%|██████████| 100/100 [00:07<00:00, 13.87it/s]"
          ],
          "name": "stderr"
        },
        {
          "output_type": "stream",
          "text": [
            "model loss 78.80097198486328\n",
            "model score: 0.904284919309961\n"
          ],
          "name": "stdout"
        },
        {
          "output_type": "stream",
          "text": [
            "\n",
            "/usr/local/lib/python3.6/dist-packages/seaborn/_decorators.py:43: FutureWarning: Pass the following variables as keyword args: x, y. From version 0.12, the only valid positional argument will be `data`, and passing other arguments without an explicit keyword will result in an error or misinterpretation.\n",
            "  FutureWarning\n"
          ],
          "name": "stderr"
        },
        {
          "output_type": "execute_result",
          "data": {
            "text/plain": [
              "Text(0.5, 1.0, 'loss / iters')"
            ]
          },
          "metadata": {
            "tags": []
          },
          "execution_count": 8
        },
        {
          "output_type": "display_data",
          "data": {
            "image/png": "[encoded data removed]",
            "text/plain": [
              "<Figure size 432x288 with 1 Axes>"
            ]
          },
          "metadata": {
            "tags": [],
            "needs_background": "light"
          }
        }
      ]
    },
    {
      "cell_type": "code",
      "metadata": {
        "colab": {
          "base_uri": "https://localhost:8080/"
        },
        "id": "Gcx0O1IUqlLh",
        "outputId": "121165f9-9855-4236-c5a2-720f18bfd952"
      },
      "source": [
        "# native sklearn Naive Bayes\n",
        "model = CNB()\n",
        "model.fit(X, Y)\n",
        "Y_pred = model.predict(X)\n",
        "print(f'Sklearn Naive Bayes scores - {acc(Y, Y_pred)}')"
      ],
      "execution_count": 9,
      "outputs": [
        {
          "output_type": "stream",
          "text": [
            "Sklearn Naive Bayes scores - 0.9560378408458542\n"
          ],
          "name": "stdout"
        }
      ]
    },
    {
      "cell_type": "code",
      "metadata": {
        "id": "ivQZNqUHqlLh"
      },
      "source": [
        ""
      ],
      "execution_count": null,
      "outputs": []
    }
  ]
}