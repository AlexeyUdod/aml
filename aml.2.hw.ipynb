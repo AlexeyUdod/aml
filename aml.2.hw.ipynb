{
 "cells": [
  {
   "cell_type": "markdown",
   "metadata": {
    "colab_type": "text",
    "id": "FBcSHIs298cT"
   },
   "source": [
    "Задача состоит в модификации кода градиентного спуска для задачи регрессии (ноутбук лекции - Gradient_descent.ipynb). Необходимо, чтобы ваш градиентный спуск мог решать задачи классификации, а именно линейной классификации и логистической регрессии.\n",
    "На всякий случай напомню, что код будет разный, поэтому жду от вас две функции градиентного спуска.\n",
    "Решение задачи можете найти в этой статье - https://dyakonov.org/2018/03/12/логистическая-функция-ошибки/. Там указан необходимый лосс и градиент\""
   ]
  },
  {
   "cell_type": "code",
   "execution_count": null,
   "metadata": {},
   "outputs": [],
   "source": [
    "import numpy as np\n",
    "import matplotlib.pyplot as plt\n",
    "from sklearn.datasets import make_blobs"
   ]
  },
  {
   "cell_type": "code",
   "execution_count": 274,
   "metadata": {},
   "outputs": [],
   "source": [
    "def sigmoid(x): return (1 / (1 + np.exp(-(x))))\n",
    "def logloss(y, y_prob): return -sum((y) * log(y_prob) + (1 - y) * log(1 - y_prob))\n",
    "def x4T(x,T): return np.column_stack([x**i for i in range(T.shape[0])]) \n",
    "def polynom(x,T): return np.dot(x4T(x,np.array(T)), np.array(T))"
   ]
  },
  {
   "cell_type": "code",
   "execution_count": 260,
   "metadata": {},
   "outputs": [],
   "source": [
    "n_samples = 100\n",
    "x_o, y = make_blobs(n_samples,2,2)"
   ]
  },
  {
   "cell_type": "code",
   "execution_count": 305,
   "metadata": {},
   "outputs": [
    {
     "name": "stdout",
     "output_type": "stream",
     "text": [
      "iter №99\n",
      "koef [ 1801.         -1145.33988502]\n",
      "grad [-0.5        1.9087525]\n",
      "\n"
     ]
    },
    {
     "data": {
      "text/plain": [
       "<matplotlib.collections.PathCollection at 0x264e3cd46d0>"
      ]
     },
     "execution_count": 305,
     "metadata": {},
     "output_type": "execute_result"
    },
    {
     "data": {
      "image/png": "[encoded data removed]",
      "text/plain": [
       "<Figure size 432x288 with 1 Axes>"
      ]
     },
     "metadata": {
      "needs_background": "light"
     },
     "output_type": "display_data"
    }
   ],
   "source": [
    "# Linear Classifier \n",
    "\n",
    "arity = 1         # prediction polynom arity\n",
    "alpha = 1000\n",
    "n_iter = 100\n",
    "\n",
    "koef = np.ones(arity + 1)\n",
    "x = x_o[:,0]\n",
    "# x\n",
    "for i in range(n_iter):  \n",
    "    y_prob = np.sign(y_pred:= polynom(x, koef))\n",
    "    grad = (x4T(x, koef).T @ (y_prob - y) / n_samples)\n",
    "    koef -= alpha * grad \n",
    "\n",
    "print(f'iter №{i}\\nkoef {koef}\\ngrad {grad}\\n')\n",
    "plt.scatter(x_o[:,0], x_o[:,1], c=y)\n",
    "plt.scatter(x_o[:,0], y_pred, c='r', s=1)"
   ]
  },
  {
   "cell_type": "code",
   "execution_count": 307,
   "metadata": {
    "scrolled": false
   },
   "outputs": [
    {
     "name": "stdout",
     "output_type": "stream",
     "text": [
      "iter №99\n",
      "koef [ 5.55803335  0.40731242 -1.320695  ]\n",
      "grad [-0.0060354   0.00016729  0.00164569]\n",
      "logloss 1.2439882923240597\n",
      "\n"
     ]
    },
    {
     "data": {
      "text/plain": [
       "<matplotlib.collections.PathCollection at 0x264e3d85520>"
      ]
     },
     "execution_count": 307,
     "metadata": {},
     "output_type": "execute_result"
    },
    {
     "data": {
      "image/png": "[encoded data removed]",
      "text/plain": [
       "<Figure size 432x288 with 1 Axes>"
      ]
     },
     "metadata": {
      "needs_background": "light"
     },
     "output_type": "display_data"
    }
   ],
   "source": [
    "# Logloss \n",
    "\n",
    "arity = 2          # prediction polynom arity\n",
    "alpha = 1\n",
    "n_iter = 100\n",
    "\n",
    "koef = np.ones(arity + 1)\n",
    "x = x_o[:,0]\n",
    "\n",
    "for i in range(n_iter):  \n",
    "    y_prob = sigmoid(y_pred:= polynom(x, koef))\n",
    "    grad = (x4T(x, koef).T @ (y_prob - y) / n_samples)\n",
    "    koef -= alpha * grad \n",
    "logloss_val = logloss(y, y_prob)\n",
    "\n",
    "print(f'iter №{i}\\nkoef {koef}\\ngrad {grad}\\nlogloss {logloss_val}\\n')\n",
    "plt.scatter(x_o[:,0], x_o[:,1], c=y)\n",
    "plt.scatter(x_o[:,0], y_pred, c='r', s=1)"
   ]
  }
 ],
 "metadata": {
  "colab": {
   "authorship_tag": "ABX9TyMdSpzPANfQqA5srK81ty1o",
   "collapsed_sections": [],
   "name": "aml_hw_2.ipynb",
   "provenance": []
  },
  "kernelspec": {
   "display_name": "Python 3",
   "language": "python",
   "name": "python3"
  },
  "language_info": {
   "codemirror_mode": {
    "name": "ipython",
    "version": 3
   },
   "file_extension": ".py",
   "mimetype": "text/x-python",
   "name": "python",
   "nbconvert_exporter": "python",
   "pygments_lexer": "ipython3",
   "version": "3.8.3"
  }
 },
 "nbformat": 4,
 "nbformat_minor": 1
}
