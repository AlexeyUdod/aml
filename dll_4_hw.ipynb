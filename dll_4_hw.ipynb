{
  "nbformat": 4,
  "nbformat_minor": 0,
  "metadata": {
    "kernelspec": {
      "display_name": "Python 3",
      "language": "python",
      "name": "python3"
    },
    "language_info": {
      "codemirror_mode": {
        "name": "ipython",
        "version": 3
      },
      "file_extension": ".py",
      "mimetype": "text/x-python",
      "name": "python",
      "nbconvert_exporter": "python",
      "pygments_lexer": "ipython3",
      "version": "3.8.5"
    },
    "colab": {
      "name": "dll.4.hw.ipynb",
      "provenance": [],
      "collapsed_sections": [],
      "include_colab_link": true
    },
    "accelerator": "GPU"
  },
  "cells": [
    {
      "cell_type": "markdown",
      "metadata": {
        "id": "view-in-github",
        "colab_type": "text"
      },
      "source": [
        "<a href=\"https://colab.research.google.com/github/AlexeyUdod/aml/blob/master/dll_4_hw.ipynb\" target=\"_parent\"><img src=\"https://colab.research.google.com/assets/colab-badge.svg\" alt=\"Open In Colab\"/></a>"
      ]
    },
    {
      "cell_type": "markdown",
      "metadata": {
        "id": "hkiPuyY0iTMg"
      },
      "source": [
        "Основное задание\r\n",
        "Возьмите датасет https://www.kaggle.com/ajayrana/hymenoptera-data/kernels\r\n",
        "\r\n",
        "1.Обучите на нем модели ResNet 18 и VGG 16 с нуля (5-10 эпох)\r\n",
        "\r\n",
        "2.Обучите на нем модели ResNet 18 и VGG 16 с использованием FineTuning (5-10 эпох)\r\n",
        "\r\n",
        "3.Добавьте аугментацию данных к пункту 2\r\n",
        "\r\n",
        "Сравните качество всех 3 полученных подходов\r\n"
      ]
    },
    {
      "cell_type": "code",
      "metadata": {
        "id": "1dftvu8Q7Hs3"
      },
      "source": [
        "import torch as tr\n",
        "import torchvision as trv\n",
        "import os\n",
        "from torch.nn import *\n",
        "from functools import reduce\n",
        "from operator import mul\n",
        "import time\n",
        "from tqdm import tqdm\n",
        "import seaborn as sns\n",
        "import matplotlib.pyplot as plt\n"
      ],
      "execution_count": 5,
      "outputs": []
    },
    {
      "cell_type": "code",
      "metadata": {
        "colab": {
          "base_uri": "https://localhost:8080/"
        },
        "id": "Q1p_mahXtYOs",
        "outputId": "e5a44de9-1ea2-4381-c77e-7b89de05390d"
      },
      "source": [
        "import platform\r\n",
        "if platform.system() == 'Linux':\r\n",
        "    path = '/content/drive/My Drive/Colab Notebooks/dll/hymenoptera_data/'\r\n",
        "    from google.colab import drive\r\n",
        "    drive.mount('/content/drive')\r\n",
        "else:\r\n",
        "    path = \"\"#\"d:\\drive\\Colab Notebooks\\dll\\hymenoptera_data\\\"\"\""
      ],
      "execution_count": 6,
      "outputs": [
        {
          "output_type": "stream",
          "text": [
            "Drive already mounted at /content/drive; to attempt to forcibly remount, call drive.mount(\"/content/drive\", force_remount=True).\n"
          ],
          "name": "stdout"
        }
      ]
    },
    {
      "cell_type": "code",
      "metadata": {
        "colab": {
          "base_uri": "https://localhost:8080/"
        },
        "id": "jqpztGm87Hs8",
        "outputId": "dd930d95-f9ec-4734-c46e-a32d984e2d3e"
      },
      "source": [
        "transform = trv.transforms.Compose([trv.transforms.ToTensor(), \n",
        "                                    trv.transforms.Resize((224,224)), \n",
        "                                    trv.transforms.Normalize([0.485, 0.456, 0.406], [0.229, 0.224, 0.225])])\n",
        "\n",
        "augs = trv.transforms.Compose([trv.transforms.RandomResizedCrop((224, 224)),\n",
        "                               trv.transforms.RandomHorizontalFlip(),\n",
        "                               trv.transforms.ToTensor(),\n",
        "                               trv.transforms.Normalize([0.485, 0.456, 0.406], [0.229, 0.224, 0.225])])\n",
        "batch_size = 50\n",
        "batch_size_test = 50 \n",
        "train = tr.utils.data.DataLoader(trv.datasets.ImageFolder(os.path.join(path, 'train'), transform=transform), batch_size, shuffle=True)\n",
        "train_augs = tr.utils.data.DataLoader(trv.datasets.ImageFolder(os.path.join(path, 'train'), transform=augs), batch_size, shuffle=True)\n",
        "test = tr.utils.data.DataLoader(trv.datasets.ImageFolder(os.path.join(path, 'val'), transform=transform), batch_size = batch_size_test)"
      ],
      "execution_count": 28,
      "outputs": [
        {
          "output_type": "execute_result",
          "data": {
            "text/plain": [
              "<torch.utils.data.dataloader.DataLoader at 0x7f8e4823e198>"
            ]
          },
          "metadata": {
            "tags": []
          },
          "execution_count": 28
        }
      ]
    },
    {
      "cell_type": "code",
      "metadata": {
        "id": "D3jxdXK07Hs_"
      },
      "source": [
        "def train_model(model, train, test, n_epoch):\r\n",
        "  tr.cuda.empty_cache()\r\n",
        "  output_size = 2\r\n",
        "  device = tr.device(\"cuda:0\" if tr.cuda.is_available() else \"cpu\")\r\n",
        "  print(f'work at {(tr.cuda.get_device_name() if tr.cuda.is_available() else \"cpu\")}')\r\n",
        "\r\n",
        "  model = model.to(device)\r\n",
        "\r\n",
        "  loss = CrossEntropyLoss().to(device)\r\n",
        "  optimizer = tr.optim.Adam(model.parameters(), lr = 0.0001)\r\n",
        "\r\n",
        "  start0 = time.time()\r\n",
        "  l_speed_history = [0]\r\n",
        "  score_history = [0]\r\n",
        "  for ep in range(n_epoch):\r\n",
        "      start = time.time()\r\n",
        "      model.train()\r\n",
        "      for X, y in (train):\r\n",
        "          X, y = X.to(device), y.to(device)\r\n",
        "          optimizer.zero_grad()\r\n",
        "          y_pred = model(X).to(device)\r\n",
        "          l = loss(y_pred, y).to(device)\r\n",
        "          l.backward()\r\n",
        "          optimizer.step()\r\n",
        "          train_score = tr.sum(tr.argmax(y_pred, axis=1) == y).item() / y.shape[0] \r\n",
        "          \r\n",
        "      model.eval()\r\n",
        "      for X, y in (test):\r\n",
        "          X = X.to(device)\r\n",
        "          y = y.to(device)\r\n",
        "          y_pred = model(X).to(device)\r\n",
        "          test_score = tr.sum(tr.argmax(y_pred, axis=1) == y).item() / y.shape[0] \r\n",
        "      score_history.append(test_score)\r\n",
        "      dtime = time.time() - start\r\n",
        "      total_dtime = time.time() - start0\r\n",
        "      l_speed = (score_history[-1] - score_history[-2]) / dtime\r\n",
        "      l_speed_history.append(l_speed)\r\n",
        "      p_speed = test_score / total_dtime\r\n",
        "      print(f'epoch {ep}, loss {round(l.item(), 4)}, train_score {train_score}, test_score {test_score}, epoch time {round(dtime, 2)} sec,  acc% / sec {round(l_speed*100, 7)}, total_acc% / sec {round(p_speed*100, 6)}')  \r\n",
        "\r\n",
        "  return l_speed_history, score_history"
      ],
      "execution_count": 32,
      "outputs": []
    },
    {
      "cell_type": "code",
      "metadata": {
        "colab": {
          "base_uri": "https://localhost:8080/"
        },
        "id": "W4oY8ShkFuFg",
        "outputId": "8fa4e350-1355-49bf-958f-7969e10d837d"
      },
      "source": [
        "r18 = trv.models.resnet18(pretrained=False)\r\n",
        "r18.fc = Linear(in_features=512, out_features=2, bias=True)\r\n",
        "\r\n",
        "vgg = trv.models.vgg16(pretrained=False)\r\n",
        "vgg.classifier[-1] = Linear(in_features=4096, out_features=2, bias=True)\r\n",
        "\r\n",
        "r18_not_pretrained = train_model(r18, train, test, 10)\r\n",
        "vgg_not_pretrained = train_model(vgg, train, test, 10)"
      ],
      "execution_count": 33,
      "outputs": [
        {
          "output_type": "stream",
          "text": [
            "work at Tesla P100-PCIE-16GB\n",
            "epoch 0, loss 0.6025, train_score 0.6136363636363636, test_score 0.3333333333333333, epoch time 4.49 sec,  acc% / sec 7.4314451, total_acc% / sec 7.431438\n",
            "epoch 1, loss 0.5357, train_score 0.7272727272727273, test_score 1.0, epoch time 4.43 sec,  acc% / sec 15.0376415, total_acc% / sec 11.212081\n",
            "epoch 2, loss 0.2488, train_score 0.9318181818181818, test_score 1.0, epoch time 4.49 sec,  acc% / sec 0.0, total_acc% / sec 7.455741\n",
            "epoch 3, loss 0.1724, train_score 0.9318181818181818, test_score 1.0, epoch time 4.5 sec,  acc% / sec 0.0, total_acc% / sec 5.583184\n",
            "epoch 4, loss 0.0325, train_score 1.0, test_score 1.0, epoch time 4.48 sec,  acc% / sec 0.0, total_acc% / sec 4.466662\n",
            "epoch 5, loss 0.0186, train_score 1.0, test_score 1.0, epoch time 4.47 sec,  acc% / sec 0.0, total_acc% / sec 3.723121\n",
            "epoch 6, loss 0.0073, train_score 1.0, test_score 1.0, epoch time 4.43 sec,  acc% / sec 0.0, total_acc% / sec 3.195817\n",
            "epoch 7, loss 0.0026, train_score 1.0, test_score 1.0, epoch time 4.48 sec,  acc% / sec 0.0, total_acc% / sec 2.795728\n",
            "epoch 8, loss 0.0022, train_score 1.0, test_score 1.0, epoch time 4.44 sec,  acc% / sec 0.0, total_acc% / sec 2.487261\n",
            "epoch 9, loss 0.0022, train_score 1.0, test_score 1.0, epoch time 4.48 sec,  acc% / sec 0.0, total_acc% / sec 2.237967\n",
            "work at Tesla P100-PCIE-16GB\n",
            "epoch 0, loss 0.7311, train_score 0.45454545454545453, test_score 1.0, epoch time 6.37 sec,  acc% / sec 15.7063454, total_acc% / sec 15.706338\n",
            "epoch 1, loss 0.7006, train_score 0.4318181818181818, test_score 0.0, epoch time 6.37 sec,  acc% / sec -15.6905107, total_acc% / sec 0.0\n",
            "epoch 2, loss 0.7006, train_score 0.45454545454545453, test_score 1.0, epoch time 6.35 sec,  acc% / sec 15.7376492, total_acc% / sec 5.23692\n",
            "epoch 3, loss 0.6849, train_score 0.6590909090909091, test_score 1.0, epoch time 6.32 sec,  acc% / sec 0.0, total_acc% / sec 3.934385\n",
            "epoch 4, loss 0.6556, train_score 0.6136363636363636, test_score 0.6666666666666666, epoch time 6.38 sec,  acc% / sec -5.2208205, total_acc% / sec 2.096318\n",
            "epoch 5, loss 0.8026, train_score 0.5909090909090909, test_score 0.6666666666666666, epoch time 6.38 sec,  acc% / sec 0.0, total_acc% / sec 1.74598\n",
            "epoch 6, loss 0.6431, train_score 0.6590909090909091, test_score 0.3333333333333333, epoch time 6.41 sec,  acc% / sec -5.2030888, total_acc% / sec 0.747559\n",
            "epoch 7, loss 0.659, train_score 0.5909090909090909, test_score 1.0, epoch time 6.33 sec,  acc% / sec 10.5274712, total_acc% / sec 1.963773\n",
            "epoch 8, loss 0.6709, train_score 0.5681818181818182, test_score 1.0, epoch time 6.35 sec,  acc% / sec 0.0, total_acc% / sec 1.745879\n",
            "epoch 9, loss 0.5813, train_score 0.6818181818181818, test_score 1.0, epoch time 6.47 sec,  acc% / sec 0.0, total_acc% / sec 1.568609\n"
          ],
          "name": "stdout"
        }
      ]
    },
    {
      "cell_type": "code",
      "metadata": {
        "colab": {
          "base_uri": "https://localhost:8080/"
        },
        "id": "uHEhSxNrGz88",
        "outputId": "97d8bc15-1729-4ed4-8135-1f3f17cd1443"
      },
      "source": [
        "r18 = trv.models.resnet18(pretrained=True)\r\n",
        "r18.fc = Linear(in_features=512, out_features=2, bias=True)\r\n",
        "\r\n",
        "vgg = trv.models.vgg16(pretrained=True)\r\n",
        "vgg.classifier[-1] = Linear(in_features=4096, out_features=2, bias=True)\r\n",
        "\r\n",
        "r18_pretrained = train_model(r18, train, test, 10)\r\n",
        "vgg_pretrained = train_model(vgg, train, test, 10)"
      ],
      "execution_count": 43,
      "outputs": [
        {
          "output_type": "stream",
          "text": [
            "work at Tesla P100-PCIE-16GB\n",
            "epoch 0, loss 0.4248, train_score 0.7727272727272727, test_score 1.0, epoch time 4.54 sec,  acc% / sec 22.0279068, total_acc% / sec 22.027841\n",
            "epoch 1, loss 0.0503, train_score 1.0, test_score 1.0, epoch time 4.46 sec,  acc% / sec 0.0, total_acc% / sec 11.112048\n",
            "epoch 2, loss 0.0419, train_score 1.0, test_score 1.0, epoch time 4.49 sec,  acc% / sec 0.0, total_acc% / sec 7.415453\n",
            "epoch 3, loss 0.0051, train_score 1.0, test_score 1.0, epoch time 4.48 sec,  acc% / sec 0.0, total_acc% / sec 5.565291\n",
            "epoch 4, loss 0.0018, train_score 1.0, test_score 1.0, epoch time 4.49 sec,  acc% / sec 0.0, total_acc% / sec 4.45322\n",
            "epoch 5, loss 0.0021, train_score 1.0, test_score 1.0, epoch time 4.49 sec,  acc% / sec 0.0, total_acc% / sec 3.711\n",
            "epoch 6, loss 0.0015, train_score 1.0, test_score 1.0, epoch time 4.49 sec,  acc% / sec 0.0, total_acc% / sec 3.180557\n",
            "epoch 7, loss 0.0013, train_score 1.0, test_score 1.0, epoch time 4.51 sec,  acc% / sec 0.0, total_acc% / sec 2.781262\n",
            "epoch 8, loss 0.0019, train_score 1.0, test_score 1.0, epoch time 4.47 sec,  acc% / sec 0.0, total_acc% / sec 2.473829\n",
            "epoch 9, loss 0.0029, train_score 1.0, test_score 1.0, epoch time 4.46 sec,  acc% / sec 0.0, total_acc% / sec 2.228189\n",
            "work at Tesla P100-PCIE-16GB\n",
            "epoch 0, loss 0.2942, train_score 0.8181818181818182, test_score 1.0, epoch time 6.37 sec,  acc% / sec 15.6956818, total_acc% / sec 15.695673\n",
            "epoch 1, loss 0.0609, train_score 0.9772727272727273, test_score 1.0, epoch time 6.36 sec,  acc% / sec 0.0, total_acc% / sec 7.854832\n",
            "epoch 2, loss 0.01, train_score 1.0, test_score 1.0, epoch time 6.37 sec,  acc% / sec 0.0, total_acc% / sec 5.234716\n",
            "epoch 3, loss 0.0029, train_score 1.0, test_score 1.0, epoch time 6.4 sec,  acc% / sec 0.0, total_acc% / sec 3.920605\n",
            "epoch 4, loss 0.0053, train_score 1.0, test_score 1.0, epoch time 6.39 sec,  acc% / sec 0.0, total_acc% / sec 3.135419\n",
            "epoch 5, loss 0.0002, train_score 1.0, test_score 1.0, epoch time 6.51 sec,  acc% / sec 0.0, total_acc% / sec 2.603721\n",
            "epoch 6, loss 0.0092, train_score 1.0, test_score 1.0, epoch time 6.37 sec,  acc% / sec 0.0, total_acc% / sec 2.233306\n",
            "epoch 7, loss 0.0001, train_score 1.0, test_score 1.0, epoch time 6.39 sec,  acc% / sec 0.0, total_acc% / sec 1.954563\n",
            "epoch 8, loss 0.0001, train_score 1.0, test_score 1.0, epoch time 6.47 sec,  acc% / sec 0.0, total_acc% / sec 1.735129\n",
            "epoch 9, loss 0.0, train_score 1.0, test_score 1.0, epoch time 6.5 sec,  acc% / sec 0.0, total_acc% / sec 1.559173\n"
          ],
          "name": "stdout"
        }
      ]
    },
    {
      "cell_type": "code",
      "metadata": {
        "colab": {
          "base_uri": "https://localhost:8080/"
        },
        "id": "iX9z1YfVI1uY",
        "outputId": "afe718df-fce7-4717-b401-4717c91c50f9"
      },
      "source": [
        "r18 = trv.models.resnet18(pretrained=True)\r\n",
        "r18.fc = Linear(in_features=512, out_features=2, bias=True)\r\n",
        "\r\n",
        "vgg = trv.models.vgg16(pretrained=True)\r\n",
        "vgg.classifier[-1] = Linear(in_features=4096, out_features=2, bias=True)\r\n",
        "\r\n",
        "r18_pretrained_augs = train_model(r18, train_augs, test, 10)\r\n",
        "vgg_pretrained_augs = train_model(vgg, train_augs, test, 10)"
      ],
      "execution_count": 44,
      "outputs": [
        {
          "output_type": "stream",
          "text": [
            "work at Tesla P100-PCIE-16GB\n",
            "epoch 0, loss 0.3204, train_score 0.9090909090909091, test_score 1.0, epoch time 4.25 sec,  acc% / sec 23.5218679, total_acc% / sec 23.521853\n",
            "epoch 1, loss 0.1861, train_score 0.9545454545454546, test_score 1.0, epoch time 4.26 sec,  acc% / sec 0.0, total_acc% / sec 11.750841\n",
            "epoch 2, loss 0.0603, train_score 1.0, test_score 1.0, epoch time 4.21 sec,  acc% / sec 0.0, total_acc% / sec 7.860755\n",
            "epoch 3, loss 0.081, train_score 0.9772727272727273, test_score 1.0, epoch time 4.26 sec,  acc% / sec 0.0, total_acc% / sec 5.888212\n",
            "epoch 4, loss 0.0722, train_score 0.9772727272727273, test_score 1.0, epoch time 4.22 sec,  acc% / sec 0.0, total_acc% / sec 4.716353\n",
            "epoch 5, loss 0.0424, train_score 1.0, test_score 1.0, epoch time 4.23 sec,  acc% / sec 0.0, total_acc% / sec 3.93137\n",
            "epoch 6, loss 0.0645, train_score 0.9772727272727273, test_score 1.0, epoch time 4.27 sec,  acc% / sec 0.0, total_acc% / sec 3.36627\n",
            "epoch 7, loss 0.0806, train_score 0.9772727272727273, test_score 1.0, epoch time 4.22 sec,  acc% / sec 0.0, total_acc% / sec 2.947874\n",
            "epoch 8, loss 0.1058, train_score 0.9090909090909091, test_score 1.0, epoch time 4.26 sec,  acc% / sec 0.0, total_acc% / sec 2.619085\n",
            "epoch 9, loss 0.0162, train_score 1.0, test_score 1.0, epoch time 4.25 sec,  acc% / sec 0.0, total_acc% / sec 2.356979\n",
            "work at Tesla P100-PCIE-16GB\n",
            "epoch 0, loss 0.2864, train_score 0.9318181818181818, test_score 1.0, epoch time 6.15 sec,  acc% / sec 16.2636036, total_acc% / sec 16.263595\n",
            "epoch 1, loss 0.1971, train_score 0.9090909090909091, test_score 1.0, epoch time 6.18 sec,  acc% / sec 0.0, total_acc% / sec 8.11365\n",
            "epoch 2, loss 0.3503, train_score 0.8863636363636364, test_score 0.6666666666666666, epoch time 6.18 sec,  acc% / sec -5.3919387, total_acc% / sec 3.60221\n",
            "epoch 3, loss 0.2536, train_score 0.8409090909090909, test_score 1.0, epoch time 6.14 sec,  acc% / sec 5.4304468, total_acc% / sec 4.057528\n",
            "epoch 4, loss 0.1904, train_score 0.8863636363636364, test_score 1.0, epoch time 6.15 sec,  acc% / sec 0.0, total_acc% / sec 3.24771\n",
            "epoch 5, loss 0.1598, train_score 0.9318181818181818, test_score 1.0, epoch time 6.12 sec,  acc% / sec 0.0, total_acc% / sec 2.709272\n",
            "epoch 6, loss 0.1929, train_score 0.9318181818181818, test_score 1.0, epoch time 6.12 sec,  acc% / sec 0.0, total_acc% / sec 2.323908\n",
            "epoch 7, loss 0.0866, train_score 0.9772727272727273, test_score 1.0, epoch time 6.19 sec,  acc% / sec 0.0, total_acc% / sec 2.031445\n",
            "epoch 8, loss 0.0921, train_score 0.9545454545454546, test_score 1.0, epoch time 6.1 sec,  acc% / sec 0.0, total_acc% / sec 1.807315\n",
            "epoch 9, loss 0.047, train_score 0.9772727272727273, test_score 1.0, epoch time 6.16 sec,  acc% / sec 0.0, total_acc% / sec 1.626312\n"
          ],
          "name": "stdout"
        }
      ]
    },
    {
      "cell_type": "code",
      "metadata": {
        "colab": {
          "base_uri": "https://localhost:8080/",
          "height": 823
        },
        "id": "n8KK4tEcN8LZ",
        "outputId": "f149c3a3-30d5-40c6-83df-e7274518c57d"
      },
      "source": [
        "sns.lineplot(range(11), vgg_pretrained_augs[1], label='vgg_pretrained_augs')\r\n",
        "sns.lineplot(range(11), r18_pretrained_augs[1], label='r18_pretrained_augs')\r\n",
        "sns.lineplot(range(11), r18_pretrained[1], label='r18_pretrained')\r\n",
        "sns.lineplot(range(11), vgg_pretrained[1], label='vgg_pretrained')\r\n",
        "sns.lineplot(range(11), r18_not_pretrained[1], label='r18_not_pretrained')\r\n",
        "sns.lineplot(range(11), vgg__not_pretrained[1], label='vgg_not_pretrained')\r\n",
        "plt.gcf().set_size_inches(10, 10)"
      ],
      "execution_count": 60,
      "outputs": [
        {
          "output_type": "stream",
          "text": [
            "/usr/local/lib/python3.6/dist-packages/seaborn/_decorators.py:43: FutureWarning: Pass the following variables as keyword args: x, y. From version 0.12, the only valid positional argument will be `data`, and passing other arguments without an explicit keyword will result in an error or misinterpretation.\n",
            "  FutureWarning\n",
            "/usr/local/lib/python3.6/dist-packages/seaborn/_decorators.py:43: FutureWarning: Pass the following variables as keyword args: x, y. From version 0.12, the only valid positional argument will be `data`, and passing other arguments without an explicit keyword will result in an error or misinterpretation.\n",
            "  FutureWarning\n",
            "/usr/local/lib/python3.6/dist-packages/seaborn/_decorators.py:43: FutureWarning: Pass the following variables as keyword args: x, y. From version 0.12, the only valid positional argument will be `data`, and passing other arguments without an explicit keyword will result in an error or misinterpretation.\n",
            "  FutureWarning\n",
            "/usr/local/lib/python3.6/dist-packages/seaborn/_decorators.py:43: FutureWarning: Pass the following variables as keyword args: x, y. From version 0.12, the only valid positional argument will be `data`, and passing other arguments without an explicit keyword will result in an error or misinterpretation.\n",
            "  FutureWarning\n",
            "/usr/local/lib/python3.6/dist-packages/seaborn/_decorators.py:43: FutureWarning: Pass the following variables as keyword args: x, y. From version 0.12, the only valid positional argument will be `data`, and passing other arguments without an explicit keyword will result in an error or misinterpretation.\n",
            "  FutureWarning\n",
            "/usr/local/lib/python3.6/dist-packages/seaborn/_decorators.py:43: FutureWarning: Pass the following variables as keyword args: x, y. From version 0.12, the only valid positional argument will be `data`, and passing other arguments without an explicit keyword will result in an error or misinterpretation.\n",
            "  FutureWarning\n"
          ],
          "name": "stderr"
        },
        {
          "output_type": "display_data",
          "data": {
            "image/png": "[encoded data removed]",
            "text/plain": [
              "<Figure size 720x720 with 1 Axes>"
            ]
          },
          "metadata": {
            "tags": [],
            "needs_background": "light"
          }
        }
      ]
    },
    {
      "cell_type": "markdown",
      "metadata": {
        "id": "tOw1ZhSki_Fq"
      },
      "source": [
        "Предобученные модели с аугментацией обучаются быстрее и работают лучше.\r\n",
        "\r\n"
      ]
    }
  ]
}