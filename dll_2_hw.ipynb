{
  "nbformat": 4,
  "nbformat_minor": 0,
  "metadata": {
    "kernelspec": {
      "display_name": "Python 3",
      "language": "python",
      "name": "python3"
    },
    "language_info": {
      "codemirror_mode": {
        "name": "ipython",
        "version": 3
      },
      "file_extension": ".py",
      "mimetype": "text/x-python",
      "name": "python",
      "nbconvert_exporter": "python",
      "pygments_lexer": "ipython3",
      "version": "3.8.3"
    },
    "colab": {
      "name": "dll.2.hw.ipynb",
      "provenance": [],
      "collapsed_sections": [],
      "machine_shape": "hm",
      "include_colab_link": true
    },
    "accelerator": "GPU"
  },
  "cells": [
    {
      "cell_type": "markdown",
      "metadata": {
        "id": "view-in-github",
        "colab_type": "text"
      },
      "source": [
        "<a href=\"https://colab.research.google.com/github/AlexeyUdod/aml/blob/master/dll_2_hw.ipynb\" target=\"_parent\"><img src=\"https://colab.research.google.com/assets/colab-badge.svg\" alt=\"Open In Colab\"/></a>"
      ]
    },
    {
      "cell_type": "markdown",
      "metadata": {
        "id": "PuasueLurUIs"
      },
      "source": [
        "Постройте модель для классификации FashionMNIST. Попробуйте получить качество на тестовой выборке не ниже 88%."
      ]
    },
    {
      "cell_type": "code",
      "metadata": {
        "id": "gOVYSFhUrUIs"
      },
      "source": [
        "import torch as tr\n",
        "import torch\n",
        "import torchvision as tv\n",
        "from torch.nn import *\n",
        "import gc\n",
        "from tqdm import tqdm\n",
        "import seaborn as sns\n"
      ],
      "execution_count": 1,
      "outputs": []
    },
    {
      "cell_type": "code",
      "metadata": {
        "id": "29QD1y-nrUIt"
      },
      "source": [
        "batch_size = 500\n",
        "train_data = tv.datasets.FashionMNIST('', train = True, transform = tv.transforms.ToTensor(), download = True)\n",
        "test_data = tv.datasets.FashionMNIST('', train = False, transform = tv.transforms.ToTensor(), download = True)\n",
        "\n",
        "train = tr.utils.data.DataLoader(train_data, batch_size = batch_size, shuffle = True)\n",
        "test = tr.utils.data.DataLoader(test_data, batch_size = len(test_data), shuffle = True)"
      ],
      "execution_count": 67,
      "outputs": []
    },
    {
      "cell_type": "code",
      "metadata": {
        "id": "K9DMR7aQrUIt"
      },
      "source": [
        "Y = tr.tensor([x[1] for x in train_data])\n",
        "output_size = Y.unique().shape[0]"
      ],
      "execution_count": 3,
      "outputs": []
    },
    {
      "cell_type": "code",
      "metadata": {
        "colab": {
          "base_uri": "https://localhost:8080/"
        },
        "id": "U0jWHRNO9xHS",
        "outputId": "836592bd-4969-4da8-d1df-6ea6336e03f9"
      },
      "source": [
        "2**(2**3)"
      ],
      "execution_count": 74,
      "outputs": [
        {
          "output_type": "execute_result",
          "data": {
            "text/plain": [
              "256"
            ]
          },
          "metadata": {
            "tags": []
          },
          "execution_count": 74
        }
      ]
    },
    {
      "cell_type": "code",
      "metadata": {
        "colab": {
          "base_uri": "https://localhost:8080/"
        },
        "id": "8ZzSwDL3rUIw",
        "outputId": "58c89f21-b124-4102-af63-03baa7c31037"
      },
      "source": [
        "# m = 0.2\n",
        "a = train_data[0][0].shape\n",
        "i1 = a[-2] * a[-1]\n",
        "s1 = i1\n",
        "s2 = 2**(2**3)  # int(s1 ** m)\n",
        "s3 = i1         # int(s2 ** m)\n",
        "s4 = i1         # int(s3 ** m)\n",
        "d = 0.1\n",
        "act = ReLU6()\n",
        "device = torch.device(\"cuda:0\" if torch.cuda.is_available() else \"cpu\")\n",
        "model = Sequential(Flatten(),\n",
        "                    \n",
        "                   Linear(i1, s2), \n",
        "                   BatchNorm1d(s2),\n",
        "                  #  Dropout(d),\n",
        "                   act, \n",
        "\n",
        "                  #  Linear(s2, s3), \n",
        "                  #  BatchNorm1d(s3),\n",
        "                  #  Dropout(d),\n",
        "                  #  act,\n",
        "                   \n",
        "                  #  Linear(s3, s4), \n",
        "                  #  BatchNorm1d(s4),\n",
        "                  #  Dropout(d),\n",
        "                  #  act,\n",
        "\n",
        "                  #  Linear(s3, s4), \n",
        "                  #  BatchNorm1d(s4),\n",
        "                  #  Dropout(d),\n",
        "                  #  act,\n",
        "\n",
        "                   Linear(s2, output_size),\n",
        "                   BatchNorm1d(output_size),\n",
        "                  #  Dropout(d)\n",
        "                   ).to(device)\n",
        "\n",
        "\n",
        "loss = CrossEntropyLoss().to(device)\n",
        "optimizer = tr.optim.Adam(model.parameters(), lr = 0.0001)\n",
        "\n",
        "n_epoch = 100\n",
        "for ep in range(n_epoch):\n",
        "    model.train()\n",
        "    for X, y in train:\n",
        "        X = X.to(device)\n",
        "        y = y.to(device)\n",
        "        optimizer.zero_grad()\n",
        "        y_pred = model(X).to(device)\n",
        "        l = loss(y_pred, y).to(device)\n",
        "        l.backward()\n",
        "        optimizer.step()\n",
        "        train_score = tr.sum(tr.argmax(y_pred, axis=1) == y).item() / y.shape[0] \n",
        "        \n",
        "    model.eval()\n",
        "    for X, y in test:\n",
        "        X = X.to(device)\n",
        "        y = y.to(device)\n",
        "        y_pred = model(X).to(device)\n",
        "        test_score = tr.sum(tr.argmax(y_pred, axis=1) == y).item() / y.shape[0] \n",
        "    \n",
        "    print(f'epoch {ep}, loss {l}, train_score {train_score}, test_score {test_score}')  \n",
        "    if test_score > 0.885:\n",
        "        break"
      ],
      "execution_count": 76,
      "outputs": [
        {
          "output_type": "stream",
          "text": [
            "epoch 0, loss 0.7465207576751709, train_score 0.854, test_score 0.8101\n",
            "epoch 1, loss 0.662257969379425, train_score 0.874, test_score 0.8352\n",
            "epoch 2, loss 0.6668626070022583, train_score 0.854, test_score 0.8484\n",
            "epoch 3, loss 0.6209517121315002, train_score 0.874, test_score 0.8508\n",
            "epoch 4, loss 0.5847123861312866, train_score 0.884, test_score 0.8617\n",
            "epoch 5, loss 0.5155737400054932, train_score 0.908, test_score 0.8641\n",
            "epoch 6, loss 0.5195594429969788, train_score 0.894, test_score 0.8656\n",
            "epoch 7, loss 0.5287901759147644, train_score 0.904, test_score 0.8697\n",
            "epoch 8, loss 0.533332347869873, train_score 0.884, test_score 0.871\n",
            "epoch 9, loss 0.5148600935935974, train_score 0.904, test_score 0.8708\n",
            "epoch 10, loss 0.47498783469200134, train_score 0.914, test_score 0.8763\n",
            "epoch 11, loss 0.44943875074386597, train_score 0.924, test_score 0.8758\n",
            "epoch 12, loss 0.4657495617866516, train_score 0.916, test_score 0.8761\n",
            "epoch 13, loss 0.47505849599838257, train_score 0.908, test_score 0.8751\n",
            "epoch 14, loss 0.5080463886260986, train_score 0.878, test_score 0.8787\n",
            "epoch 15, loss 0.40887290239334106, train_score 0.93, test_score 0.88\n",
            "epoch 16, loss 0.4482348561286926, train_score 0.91, test_score 0.8819\n",
            "epoch 17, loss 0.4361431896686554, train_score 0.906, test_score 0.8816\n",
            "epoch 18, loss 0.42163315415382385, train_score 0.922, test_score 0.8842\n",
            "epoch 19, loss 0.40336641669273376, train_score 0.934, test_score 0.8834\n",
            "epoch 20, loss 0.41087865829467773, train_score 0.928, test_score 0.8768\n",
            "epoch 21, loss 0.3539661169052124, train_score 0.944, test_score 0.8833\n",
            "epoch 22, loss 0.42511099576950073, train_score 0.904, test_score 0.8861\n"
          ],
          "name": "stdout"
        }
      ]
    },
    {
      "cell_type": "code",
      "metadata": {
        "colab": {
          "base_uri": "https://localhost:8080/"
        },
        "id": "ceHC7l068t-d",
        "outputId": "09a5a3aa-ad5a-4fa0-f3c3-76df309786d7"
      },
      "source": [
        "test_score = tr.sum(tr.argmax(y_pred, axis=1) == y).item() / y.shape[0] \n",
        "print(f'Точность модели {test_score}')"
      ],
      "execution_count": 79,
      "outputs": [
        {
          "output_type": "stream",
          "text": [
            "Точность модели 0.8861\n"
          ],
          "name": "stdout"
        }
      ]
    }
  ]
}