{
  "nbformat": 4,
  "nbformat_minor": 0,
  "metadata": {
    "colab": {
      "name": "dll.12.hw.ipynb",
      "provenance": [],
      "collapsed_sections": [],
      "authorship_tag": "ABX9TyPb5V5+tfM78PpVELAQj/MB",
      "include_colab_link": true
    },
    "kernelspec": {
      "name": "python3",
      "display_name": "Python 3"
    },
    "language_info": {
      "name": "python"
    },
    "accelerator": "GPU",
    "widgets": {
      "application/vnd.jupyter.widget-state+json": {
        "ddb9e2fa5183460bb98a36bf61a136bb": {
          "model_module": "@jupyter-widgets/controls",
          "model_name": "HBoxModel",
          "state": {
            "_view_name": "HBoxView",
            "_dom_classes": [],
            "_model_name": "HBoxModel",
            "_view_module": "@jupyter-widgets/controls",
            "_model_module_version": "1.5.0",
            "_view_count": null,
            "_view_module_version": "1.5.0",
            "box_style": "",
            "layout": "IPY_MODEL_3117ccce02644acaa65f057f6ebec2c2",
            "_model_module": "@jupyter-widgets/controls",
            "children": [
              "IPY_MODEL_e4a8c251b3a64d31b50680facae74259",
              "IPY_MODEL_4b9a1f449ccd412b8d9a61ad396c42f0"
            ]
          }
        },
        "3117ccce02644acaa65f057f6ebec2c2": {
          "model_module": "@jupyter-widgets/base",
          "model_name": "LayoutModel",
          "state": {
            "_view_name": "LayoutView",
            "grid_template_rows": null,
            "right": null,
            "justify_content": null,
            "_view_module": "@jupyter-widgets/base",
            "overflow": null,
            "_model_module_version": "1.2.0",
            "_view_count": null,
            "flex_flow": null,
            "width": null,
            "min_width": null,
            "border": null,
            "align_items": null,
            "bottom": null,
            "_model_module": "@jupyter-widgets/base",
            "top": null,
            "grid_column": null,
            "overflow_y": null,
            "overflow_x": null,
            "grid_auto_flow": null,
            "grid_area": null,
            "grid_template_columns": null,
            "flex": null,
            "_model_name": "LayoutModel",
            "justify_items": null,
            "grid_row": null,
            "max_height": null,
            "align_content": null,
            "visibility": null,
            "align_self": null,
            "height": null,
            "min_height": null,
            "padding": null,
            "grid_auto_rows": null,
            "grid_gap": null,
            "max_width": null,
            "order": null,
            "_view_module_version": "1.2.0",
            "grid_template_areas": null,
            "object_position": null,
            "object_fit": null,
            "grid_auto_columns": null,
            "margin": null,
            "display": null,
            "left": null
          }
        },
        "e4a8c251b3a64d31b50680facae74259": {
          "model_module": "@jupyter-widgets/controls",
          "model_name": "FloatProgressModel",
          "state": {
            "_view_name": "ProgressView",
            "style": "IPY_MODEL_cef77ae24f6046d58cfc12c7ce90d796",
            "_dom_classes": [],
            "description": "",
            "_model_name": "FloatProgressModel",
            "bar_style": "success",
            "max": 9912422,
            "_view_module": "@jupyter-widgets/controls",
            "_model_module_version": "1.5.0",
            "value": 9912422,
            "_view_count": null,
            "_view_module_version": "1.5.0",
            "orientation": "horizontal",
            "min": 0,
            "description_tooltip": null,
            "_model_module": "@jupyter-widgets/controls",
            "layout": "IPY_MODEL_01c0201177a04fe8970f476ff0042d63"
          }
        },
        "4b9a1f449ccd412b8d9a61ad396c42f0": {
          "model_module": "@jupyter-widgets/controls",
          "model_name": "HTMLModel",
          "state": {
            "_view_name": "HTMLView",
            "style": "IPY_MODEL_0c6e6346876d4c928fd038a39bf26951",
            "_dom_classes": [],
            "description": "",
            "_model_name": "HTMLModel",
            "placeholder": "​",
            "_view_module": "@jupyter-widgets/controls",
            "_model_module_version": "1.5.0",
            "value": " 9913344/? [03:09&lt;00:00, 52402.64it/s]",
            "_view_count": null,
            "_view_module_version": "1.5.0",
            "description_tooltip": null,
            "_model_module": "@jupyter-widgets/controls",
            "layout": "IPY_MODEL_138af1e3b4584f0482c7514537c9e866"
          }
        },
        "cef77ae24f6046d58cfc12c7ce90d796": {
          "model_module": "@jupyter-widgets/controls",
          "model_name": "ProgressStyleModel",
          "state": {
            "_view_name": "StyleView",
            "_model_name": "ProgressStyleModel",
            "description_width": "initial",
            "_view_module": "@jupyter-widgets/base",
            "_model_module_version": "1.5.0",
            "_view_count": null,
            "_view_module_version": "1.2.0",
            "bar_color": null,
            "_model_module": "@jupyter-widgets/controls"
          }
        },
        "01c0201177a04fe8970f476ff0042d63": {
          "model_module": "@jupyter-widgets/base",
          "model_name": "LayoutModel",
          "state": {
            "_view_name": "LayoutView",
            "grid_template_rows": null,
            "right": null,
            "justify_content": null,
            "_view_module": "@jupyter-widgets/base",
            "overflow": null,
            "_model_module_version": "1.2.0",
            "_view_count": null,
            "flex_flow": null,
            "width": null,
            "min_width": null,
            "border": null,
            "align_items": null,
            "bottom": null,
            "_model_module": "@jupyter-widgets/base",
            "top": null,
            "grid_column": null,
            "overflow_y": null,
            "overflow_x": null,
            "grid_auto_flow": null,
            "grid_area": null,
            "grid_template_columns": null,
            "flex": null,
            "_model_name": "LayoutModel",
            "justify_items": null,
            "grid_row": null,
            "max_height": null,
            "align_content": null,
            "visibility": null,
            "align_self": null,
            "height": null,
            "min_height": null,
            "padding": null,
            "grid_auto_rows": null,
            "grid_gap": null,
            "max_width": null,
            "order": null,
            "_view_module_version": "1.2.0",
            "grid_template_areas": null,
            "object_position": null,
            "object_fit": null,
            "grid_auto_columns": null,
            "margin": null,
            "display": null,
            "left": null
          }
        },
        "0c6e6346876d4c928fd038a39bf26951": {
          "model_module": "@jupyter-widgets/controls",
          "model_name": "DescriptionStyleModel",
          "state": {
            "_view_name": "StyleView",
            "_model_name": "DescriptionStyleModel",
            "description_width": "",
            "_view_module": "@jupyter-widgets/base",
            "_model_module_version": "1.5.0",
            "_view_count": null,
            "_view_module_version": "1.2.0",
            "_model_module": "@jupyter-widgets/controls"
          }
        },
        "138af1e3b4584f0482c7514537c9e866": {
          "model_module": "@jupyter-widgets/base",
          "model_name": "LayoutModel",
          "state": {
            "_view_name": "LayoutView",
            "grid_template_rows": null,
            "right": null,
            "justify_content": null,
            "_view_module": "@jupyter-widgets/base",
            "overflow": null,
            "_model_module_version": "1.2.0",
            "_view_count": null,
            "flex_flow": null,
            "width": null,
            "min_width": null,
            "border": null,
            "align_items": null,
            "bottom": null,
            "_model_module": "@jupyter-widgets/base",
            "top": null,
            "grid_column": null,
            "overflow_y": null,
            "overflow_x": null,
            "grid_auto_flow": null,
            "grid_area": null,
            "grid_template_columns": null,
            "flex": null,
            "_model_name": "LayoutModel",
            "justify_items": null,
            "grid_row": null,
            "max_height": null,
            "align_content": null,
            "visibility": null,
            "align_self": null,
            "height": null,
            "min_height": null,
            "padding": null,
            "grid_auto_rows": null,
            "grid_gap": null,
            "max_width": null,
            "order": null,
            "_view_module_version": "1.2.0",
            "grid_template_areas": null,
            "object_position": null,
            "object_fit": null,
            "grid_auto_columns": null,
            "margin": null,
            "display": null,
            "left": null
          }
        },
        "137950307815411f9d09c55085aea518": {
          "model_module": "@jupyter-widgets/controls",
          "model_name": "HBoxModel",
          "state": {
            "_view_name": "HBoxView",
            "_dom_classes": [],
            "_model_name": "HBoxModel",
            "_view_module": "@jupyter-widgets/controls",
            "_model_module_version": "1.5.0",
            "_view_count": null,
            "_view_module_version": "1.5.0",
            "box_style": "",
            "layout": "IPY_MODEL_db79d4076a1a4849bea4b094577b15a4",
            "_model_module": "@jupyter-widgets/controls",
            "children": [
              "IPY_MODEL_33cef3f3c56441fcaadb7ac0658e0e36",
              "IPY_MODEL_19f20c6f6c8b4148b7325bded7e789d9"
            ]
          }
        },
        "db79d4076a1a4849bea4b094577b15a4": {
          "model_module": "@jupyter-widgets/base",
          "model_name": "LayoutModel",
          "state": {
            "_view_name": "LayoutView",
            "grid_template_rows": null,
            "right": null,
            "justify_content": null,
            "_view_module": "@jupyter-widgets/base",
            "overflow": null,
            "_model_module_version": "1.2.0",
            "_view_count": null,
            "flex_flow": null,
            "width": null,
            "min_width": null,
            "border": null,
            "align_items": null,
            "bottom": null,
            "_model_module": "@jupyter-widgets/base",
            "top": null,
            "grid_column": null,
            "overflow_y": null,
            "overflow_x": null,
            "grid_auto_flow": null,
            "grid_area": null,
            "grid_template_columns": null,
            "flex": null,
            "_model_name": "LayoutModel",
            "justify_items": null,
            "grid_row": null,
            "max_height": null,
            "align_content": null,
            "visibility": null,
            "align_self": null,
            "height": null,
            "min_height": null,
            "padding": null,
            "grid_auto_rows": null,
            "grid_gap": null,
            "max_width": null,
            "order": null,
            "_view_module_version": "1.2.0",
            "grid_template_areas": null,
            "object_position": null,
            "object_fit": null,
            "grid_auto_columns": null,
            "margin": null,
            "display": null,
            "left": null
          }
        },
        "33cef3f3c56441fcaadb7ac0658e0e36": {
          "model_module": "@jupyter-widgets/controls",
          "model_name": "FloatProgressModel",
          "state": {
            "_view_name": "ProgressView",
            "style": "IPY_MODEL_1323328c2078443991af0f588f479214",
            "_dom_classes": [],
            "description": "",
            "_model_name": "FloatProgressModel",
            "bar_style": "success",
            "max": 28881,
            "_view_module": "@jupyter-widgets/controls",
            "_model_module_version": "1.5.0",
            "value": 28881,
            "_view_count": null,
            "_view_module_version": "1.5.0",
            "orientation": "horizontal",
            "min": 0,
            "description_tooltip": null,
            "_model_module": "@jupyter-widgets/controls",
            "layout": "IPY_MODEL_353e873140c644c3b042cf084aab6f42"
          }
        },
        "19f20c6f6c8b4148b7325bded7e789d9": {
          "model_module": "@jupyter-widgets/controls",
          "model_name": "HTMLModel",
          "state": {
            "_view_name": "HTMLView",
            "style": "IPY_MODEL_bb9f42c08aff4949bbcef0ca97e8161d",
            "_dom_classes": [],
            "description": "",
            "_model_name": "HTMLModel",
            "placeholder": "​",
            "_view_module": "@jupyter-widgets/controls",
            "_model_module_version": "1.5.0",
            "value": " 29696/? [05:13&lt;00:00, 94.70it/s]",
            "_view_count": null,
            "_view_module_version": "1.5.0",
            "description_tooltip": null,
            "_model_module": "@jupyter-widgets/controls",
            "layout": "IPY_MODEL_b53011b8174e40dd93171e0b677aafd2"
          }
        },
        "1323328c2078443991af0f588f479214": {
          "model_module": "@jupyter-widgets/controls",
          "model_name": "ProgressStyleModel",
          "state": {
            "_view_name": "StyleView",
            "_model_name": "ProgressStyleModel",
            "description_width": "initial",
            "_view_module": "@jupyter-widgets/base",
            "_model_module_version": "1.5.0",
            "_view_count": null,
            "_view_module_version": "1.2.0",
            "bar_color": null,
            "_model_module": "@jupyter-widgets/controls"
          }
        },
        "353e873140c644c3b042cf084aab6f42": {
          "model_module": "@jupyter-widgets/base",
          "model_name": "LayoutModel",
          "state": {
            "_view_name": "LayoutView",
            "grid_template_rows": null,
            "right": null,
            "justify_content": null,
            "_view_module": "@jupyter-widgets/base",
            "overflow": null,
            "_model_module_version": "1.2.0",
            "_view_count": null,
            "flex_flow": null,
            "width": null,
            "min_width": null,
            "border": null,
            "align_items": null,
            "bottom": null,
            "_model_module": "@jupyter-widgets/base",
            "top": null,
            "grid_column": null,
            "overflow_y": null,
            "overflow_x": null,
            "grid_auto_flow": null,
            "grid_area": null,
            "grid_template_columns": null,
            "flex": null,
            "_model_name": "LayoutModel",
            "justify_items": null,
            "grid_row": null,
            "max_height": null,
            "align_content": null,
            "visibility": null,
            "align_self": null,
            "height": null,
            "min_height": null,
            "padding": null,
            "grid_auto_rows": null,
            "grid_gap": null,
            "max_width": null,
            "order": null,
            "_view_module_version": "1.2.0",
            "grid_template_areas": null,
            "object_position": null,
            "object_fit": null,
            "grid_auto_columns": null,
            "margin": null,
            "display": null,
            "left": null
          }
        },
        "bb9f42c08aff4949bbcef0ca97e8161d": {
          "model_module": "@jupyter-widgets/controls",
          "model_name": "DescriptionStyleModel",
          "state": {
            "_view_name": "StyleView",
            "_model_name": "DescriptionStyleModel",
            "description_width": "",
            "_view_module": "@jupyter-widgets/base",
            "_model_module_version": "1.5.0",
            "_view_count": null,
            "_view_module_version": "1.2.0",
            "_model_module": "@jupyter-widgets/controls"
          }
        },
        "b53011b8174e40dd93171e0b677aafd2": {
          "model_module": "@jupyter-widgets/base",
          "model_name": "LayoutModel",
          "state": {
            "_view_name": "LayoutView",
            "grid_template_rows": null,
            "right": null,
            "justify_content": null,
            "_view_module": "@jupyter-widgets/base",
            "overflow": null,
            "_model_module_version": "1.2.0",
            "_view_count": null,
            "flex_flow": null,
            "width": null,
            "min_width": null,
            "border": null,
            "align_items": null,
            "bottom": null,
            "_model_module": "@jupyter-widgets/base",
            "top": null,
            "grid_column": null,
            "overflow_y": null,
            "overflow_x": null,
            "grid_auto_flow": null,
            "grid_area": null,
            "grid_template_columns": null,
            "flex": null,
            "_model_name": "LayoutModel",
            "justify_items": null,
            "grid_row": null,
            "max_height": null,
            "align_content": null,
            "visibility": null,
            "align_self": null,
            "height": null,
            "min_height": null,
            "padding": null,
            "grid_auto_rows": null,
            "grid_gap": null,
            "max_width": null,
            "order": null,
            "_view_module_version": "1.2.0",
            "grid_template_areas": null,
            "object_position": null,
            "object_fit": null,
            "grid_auto_columns": null,
            "margin": null,
            "display": null,
            "left": null
          }
        },
        "658a0d2468874f50bc0e93024eab397c": {
          "model_module": "@jupyter-widgets/controls",
          "model_name": "HBoxModel",
          "state": {
            "_view_name": "HBoxView",
            "_dom_classes": [],
            "_model_name": "HBoxModel",
            "_view_module": "@jupyter-widgets/controls",
            "_model_module_version": "1.5.0",
            "_view_count": null,
            "_view_module_version": "1.5.0",
            "box_style": "",
            "layout": "IPY_MODEL_0780d30c381e4e6f8109e9e4b5863d2e",
            "_model_module": "@jupyter-widgets/controls",
            "children": [
              "IPY_MODEL_c7d6a8c340c8401c9594820080519ee9",
              "IPY_MODEL_6dc22fe50b954735aaac4d136115e1b1"
            ]
          }
        },
        "0780d30c381e4e6f8109e9e4b5863d2e": {
          "model_module": "@jupyter-widgets/base",
          "model_name": "LayoutModel",
          "state": {
            "_view_name": "LayoutView",
            "grid_template_rows": null,
            "right": null,
            "justify_content": null,
            "_view_module": "@jupyter-widgets/base",
            "overflow": null,
            "_model_module_version": "1.2.0",
            "_view_count": null,
            "flex_flow": null,
            "width": null,
            "min_width": null,
            "border": null,
            "align_items": null,
            "bottom": null,
            "_model_module": "@jupyter-widgets/base",
            "top": null,
            "grid_column": null,
            "overflow_y": null,
            "overflow_x": null,
            "grid_auto_flow": null,
            "grid_area": null,
            "grid_template_columns": null,
            "flex": null,
            "_model_name": "LayoutModel",
            "justify_items": null,
            "grid_row": null,
            "max_height": null,
            "align_content": null,
            "visibility": null,
            "align_self": null,
            "height": null,
            "min_height": null,
            "padding": null,
            "grid_auto_rows": null,
            "grid_gap": null,
            "max_width": null,
            "order": null,
            "_view_module_version": "1.2.0",
            "grid_template_areas": null,
            "object_position": null,
            "object_fit": null,
            "grid_auto_columns": null,
            "margin": null,
            "display": null,
            "left": null
          }
        },
        "c7d6a8c340c8401c9594820080519ee9": {
          "model_module": "@jupyter-widgets/controls",
          "model_name": "FloatProgressModel",
          "state": {
            "_view_name": "ProgressView",
            "style": "IPY_MODEL_75a4045deeb4434aac67242c037c87a5",
            "_dom_classes": [],
            "description": "",
            "_model_name": "FloatProgressModel",
            "bar_style": "success",
            "max": 1648877,
            "_view_module": "@jupyter-widgets/controls",
            "_model_module_version": "1.5.0",
            "value": 1648877,
            "_view_count": null,
            "_view_module_version": "1.5.0",
            "orientation": "horizontal",
            "min": 0,
            "description_tooltip": null,
            "_model_module": "@jupyter-widgets/controls",
            "layout": "IPY_MODEL_45ccdef23c704d488b0ddb3c3e6a9e7d"
          }
        },
        "6dc22fe50b954735aaac4d136115e1b1": {
          "model_module": "@jupyter-widgets/controls",
          "model_name": "HTMLModel",
          "state": {
            "_view_name": "HTMLView",
            "style": "IPY_MODEL_60bd69fd313a4f9aab25dae7bdd3d009",
            "_dom_classes": [],
            "description": "",
            "_model_name": "HTMLModel",
            "placeholder": "​",
            "_view_module": "@jupyter-widgets/controls",
            "_model_module_version": "1.5.0",
            "value": " 1649664/? [02:05&lt;00:00, 13095.85it/s]",
            "_view_count": null,
            "_view_module_version": "1.5.0",
            "description_tooltip": null,
            "_model_module": "@jupyter-widgets/controls",
            "layout": "IPY_MODEL_64a199531e394b6eb77654e0a7d7b97c"
          }
        },
        "75a4045deeb4434aac67242c037c87a5": {
          "model_module": "@jupyter-widgets/controls",
          "model_name": "ProgressStyleModel",
          "state": {
            "_view_name": "StyleView",
            "_model_name": "ProgressStyleModel",
            "description_width": "initial",
            "_view_module": "@jupyter-widgets/base",
            "_model_module_version": "1.5.0",
            "_view_count": null,
            "_view_module_version": "1.2.0",
            "bar_color": null,
            "_model_module": "@jupyter-widgets/controls"
          }
        },
        "45ccdef23c704d488b0ddb3c3e6a9e7d": {
          "model_module": "@jupyter-widgets/base",
          "model_name": "LayoutModel",
          "state": {
            "_view_name": "LayoutView",
            "grid_template_rows": null,
            "right": null,
            "justify_content": null,
            "_view_module": "@jupyter-widgets/base",
            "overflow": null,
            "_model_module_version": "1.2.0",
            "_view_count": null,
            "flex_flow": null,
            "width": null,
            "min_width": null,
            "border": null,
            "align_items": null,
            "bottom": null,
            "_model_module": "@jupyter-widgets/base",
            "top": null,
            "grid_column": null,
            "overflow_y": null,
            "overflow_x": null,
            "grid_auto_flow": null,
            "grid_area": null,
            "grid_template_columns": null,
            "flex": null,
            "_model_name": "LayoutModel",
            "justify_items": null,
            "grid_row": null,
            "max_height": null,
            "align_content": null,
            "visibility": null,
            "align_self": null,
            "height": null,
            "min_height": null,
            "padding": null,
            "grid_auto_rows": null,
            "grid_gap": null,
            "max_width": null,
            "order": null,
            "_view_module_version": "1.2.0",
            "grid_template_areas": null,
            "object_position": null,
            "object_fit": null,
            "grid_auto_columns": null,
            "margin": null,
            "display": null,
            "left": null
          }
        },
        "60bd69fd313a4f9aab25dae7bdd3d009": {
          "model_module": "@jupyter-widgets/controls",
          "model_name": "DescriptionStyleModel",
          "state": {
            "_view_name": "StyleView",
            "_model_name": "DescriptionStyleModel",
            "description_width": "",
            "_view_module": "@jupyter-widgets/base",
            "_model_module_version": "1.5.0",
            "_view_count": null,
            "_view_module_version": "1.2.0",
            "_model_module": "@jupyter-widgets/controls"
          }
        },
        "64a199531e394b6eb77654e0a7d7b97c": {
          "model_module": "@jupyter-widgets/base",
          "model_name": "LayoutModel",
          "state": {
            "_view_name": "LayoutView",
            "grid_template_rows": null,
            "right": null,
            "justify_content": null,
            "_view_module": "@jupyter-widgets/base",
            "overflow": null,
            "_model_module_version": "1.2.0",
            "_view_count": null,
            "flex_flow": null,
            "width": null,
            "min_width": null,
            "border": null,
            "align_items": null,
            "bottom": null,
            "_model_module": "@jupyter-widgets/base",
            "top": null,
            "grid_column": null,
            "overflow_y": null,
            "overflow_x": null,
            "grid_auto_flow": null,
            "grid_area": null,
            "grid_template_columns": null,
            "flex": null,
            "_model_name": "LayoutModel",
            "justify_items": null,
            "grid_row": null,
            "max_height": null,
            "align_content": null,
            "visibility": null,
            "align_self": null,
            "height": null,
            "min_height": null,
            "padding": null,
            "grid_auto_rows": null,
            "grid_gap": null,
            "max_width": null,
            "order": null,
            "_view_module_version": "1.2.0",
            "grid_template_areas": null,
            "object_position": null,
            "object_fit": null,
            "grid_auto_columns": null,
            "margin": null,
            "display": null,
            "left": null
          }
        },
        "15723fa3138c4d6f9c9f0220ab10d048": {
          "model_module": "@jupyter-widgets/controls",
          "model_name": "HBoxModel",
          "state": {
            "_view_name": "HBoxView",
            "_dom_classes": [],
            "_model_name": "HBoxModel",
            "_view_module": "@jupyter-widgets/controls",
            "_model_module_version": "1.5.0",
            "_view_count": null,
            "_view_module_version": "1.5.0",
            "box_style": "",
            "layout": "IPY_MODEL_710b62165306464f894a0479353f4a39",
            "_model_module": "@jupyter-widgets/controls",
            "children": [
              "IPY_MODEL_e1480dcd6f3b4e9a90b8ad5dd57b1e5b",
              "IPY_MODEL_0b91add6a87747dba9d1c252db576170"
            ]
          }
        },
        "710b62165306464f894a0479353f4a39": {
          "model_module": "@jupyter-widgets/base",
          "model_name": "LayoutModel",
          "state": {
            "_view_name": "LayoutView",
            "grid_template_rows": null,
            "right": null,
            "justify_content": null,
            "_view_module": "@jupyter-widgets/base",
            "overflow": null,
            "_model_module_version": "1.2.0",
            "_view_count": null,
            "flex_flow": null,
            "width": null,
            "min_width": null,
            "border": null,
            "align_items": null,
            "bottom": null,
            "_model_module": "@jupyter-widgets/base",
            "top": null,
            "grid_column": null,
            "overflow_y": null,
            "overflow_x": null,
            "grid_auto_flow": null,
            "grid_area": null,
            "grid_template_columns": null,
            "flex": null,
            "_model_name": "LayoutModel",
            "justify_items": null,
            "grid_row": null,
            "max_height": null,
            "align_content": null,
            "visibility": null,
            "align_self": null,
            "height": null,
            "min_height": null,
            "padding": null,
            "grid_auto_rows": null,
            "grid_gap": null,
            "max_width": null,
            "order": null,
            "_view_module_version": "1.2.0",
            "grid_template_areas": null,
            "object_position": null,
            "object_fit": null,
            "grid_auto_columns": null,
            "margin": null,
            "display": null,
            "left": null
          }
        },
        "e1480dcd6f3b4e9a90b8ad5dd57b1e5b": {
          "model_module": "@jupyter-widgets/controls",
          "model_name": "FloatProgressModel",
          "state": {
            "_view_name": "ProgressView",
            "style": "IPY_MODEL_b87c7883a7244a7eb7e445468639b5c0",
            "_dom_classes": [],
            "description": "",
            "_model_name": "FloatProgressModel",
            "bar_style": "success",
            "max": 4542,
            "_view_module": "@jupyter-widgets/controls",
            "_model_module_version": "1.5.0",
            "value": 4542,
            "_view_count": null,
            "_view_module_version": "1.5.0",
            "orientation": "horizontal",
            "min": 0,
            "description_tooltip": null,
            "_model_module": "@jupyter-widgets/controls",
            "layout": "IPY_MODEL_6fbe807f3b294aa7a8ec2cca267db542"
          }
        },
        "0b91add6a87747dba9d1c252db576170": {
          "model_module": "@jupyter-widgets/controls",
          "model_name": "HTMLModel",
          "state": {
            "_view_name": "HTMLView",
            "style": "IPY_MODEL_056d614aa6b94d64a4aacf7f6fb3de2c",
            "_dom_classes": [],
            "description": "",
            "_model_name": "HTMLModel",
            "placeholder": "​",
            "_view_module": "@jupyter-widgets/controls",
            "_model_module_version": "1.5.0",
            "value": " 5120/? [01:42&lt;00:00, 49.89it/s]",
            "_view_count": null,
            "_view_module_version": "1.5.0",
            "description_tooltip": null,
            "_model_module": "@jupyter-widgets/controls",
            "layout": "IPY_MODEL_ab104b37a30442a995a86a9b480f90cf"
          }
        },
        "b87c7883a7244a7eb7e445468639b5c0": {
          "model_module": "@jupyter-widgets/controls",
          "model_name": "ProgressStyleModel",
          "state": {
            "_view_name": "StyleView",
            "_model_name": "ProgressStyleModel",
            "description_width": "initial",
            "_view_module": "@jupyter-widgets/base",
            "_model_module_version": "1.5.0",
            "_view_count": null,
            "_view_module_version": "1.2.0",
            "bar_color": null,
            "_model_module": "@jupyter-widgets/controls"
          }
        },
        "6fbe807f3b294aa7a8ec2cca267db542": {
          "model_module": "@jupyter-widgets/base",
          "model_name": "LayoutModel",
          "state": {
            "_view_name": "LayoutView",
            "grid_template_rows": null,
            "right": null,
            "justify_content": null,
            "_view_module": "@jupyter-widgets/base",
            "overflow": null,
            "_model_module_version": "1.2.0",
            "_view_count": null,
            "flex_flow": null,
            "width": null,
            "min_width": null,
            "border": null,
            "align_items": null,
            "bottom": null,
            "_model_module": "@jupyter-widgets/base",
            "top": null,
            "grid_column": null,
            "overflow_y": null,
            "overflow_x": null,
            "grid_auto_flow": null,
            "grid_area": null,
            "grid_template_columns": null,
            "flex": null,
            "_model_name": "LayoutModel",
            "justify_items": null,
            "grid_row": null,
            "max_height": null,
            "align_content": null,
            "visibility": null,
            "align_self": null,
            "height": null,
            "min_height": null,
            "padding": null,
            "grid_auto_rows": null,
            "grid_gap": null,
            "max_width": null,
            "order": null,
            "_view_module_version": "1.2.0",
            "grid_template_areas": null,
            "object_position": null,
            "object_fit": null,
            "grid_auto_columns": null,
            "margin": null,
            "display": null,
            "left": null
          }
        },
        "056d614aa6b94d64a4aacf7f6fb3de2c": {
          "model_module": "@jupyter-widgets/controls",
          "model_name": "DescriptionStyleModel",
          "state": {
            "_view_name": "StyleView",
            "_model_name": "DescriptionStyleModel",
            "description_width": "",
            "_view_module": "@jupyter-widgets/base",
            "_model_module_version": "1.5.0",
            "_view_count": null,
            "_view_module_version": "1.2.0",
            "_model_module": "@jupyter-widgets/controls"
          }
        },
        "ab104b37a30442a995a86a9b480f90cf": {
          "model_module": "@jupyter-widgets/base",
          "model_name": "LayoutModel",
          "state": {
            "_view_name": "LayoutView",
            "grid_template_rows": null,
            "right": null,
            "justify_content": null,
            "_view_module": "@jupyter-widgets/base",
            "overflow": null,
            "_model_module_version": "1.2.0",
            "_view_count": null,
            "flex_flow": null,
            "width": null,
            "min_width": null,
            "border": null,
            "align_items": null,
            "bottom": null,
            "_model_module": "@jupyter-widgets/base",
            "top": null,
            "grid_column": null,
            "overflow_y": null,
            "overflow_x": null,
            "grid_auto_flow": null,
            "grid_area": null,
            "grid_template_columns": null,
            "flex": null,
            "_model_name": "LayoutModel",
            "justify_items": null,
            "grid_row": null,
            "max_height": null,
            "align_content": null,
            "visibility": null,
            "align_self": null,
            "height": null,
            "min_height": null,
            "padding": null,
            "grid_auto_rows": null,
            "grid_gap": null,
            "max_width": null,
            "order": null,
            "_view_module_version": "1.2.0",
            "grid_template_areas": null,
            "object_position": null,
            "object_fit": null,
            "grid_auto_columns": null,
            "margin": null,
            "display": null,
            "left": null
          }
        }
      }
    }
  },
  "cells": [
    {
      "cell_type": "markdown",
      "metadata": {
        "id": "view-in-github",
        "colab_type": "text"
      },
      "source": [
        "<a href=\"https://colab.research.google.com/github/AlexeyUdod/aml/blob/master/dll_12_hw.ipynb\" target=\"_parent\"><img src=\"https://colab.research.google.com/assets/colab-badge.svg\" alt=\"Open In Colab\"/></a>"
      ]
    },
    {
      "cell_type": "markdown",
      "metadata": {
        "id": "eUK35-0Zfi3F"
      },
      "source": [
        "##Задание \n",
        "1. Возьмите MNIST, обучите на нем сетку (LeNet)\n",
        "2. Возьмите какую-нить картинку (из mnist’а)\n",
        "3. Обучите шум, который при добавлении к оригинальной картинке, заставит ее ошибаться в пользу другого класса"
      ]
    },
    {
      "cell_type": "code",
      "metadata": {
        "id": "PwOpvvltfWEy"
      },
      "source": [
        "import torch as tr\n",
        "import torchvision as trv\n",
        "import matplotlib.pyplot as plt"
      ],
      "execution_count": 1,
      "outputs": []
    },
    {
      "cell_type": "code",
      "metadata": {
        "colab": {
          "base_uri": "https://localhost:8080/",
          "height": 586,
          "referenced_widgets": [
            "ddb9e2fa5183460bb98a36bf61a136bb",
            "3117ccce02644acaa65f057f6ebec2c2",
            "e4a8c251b3a64d31b50680facae74259",
            "4b9a1f449ccd412b8d9a61ad396c42f0",
            "cef77ae24f6046d58cfc12c7ce90d796",
            "01c0201177a04fe8970f476ff0042d63",
            "0c6e6346876d4c928fd038a39bf26951",
            "138af1e3b4584f0482c7514537c9e866",
            "137950307815411f9d09c55085aea518",
            "db79d4076a1a4849bea4b094577b15a4",
            "33cef3f3c56441fcaadb7ac0658e0e36",
            "19f20c6f6c8b4148b7325bded7e789d9",
            "1323328c2078443991af0f588f479214",
            "353e873140c644c3b042cf084aab6f42",
            "bb9f42c08aff4949bbcef0ca97e8161d",
            "b53011b8174e40dd93171e0b677aafd2",
            "658a0d2468874f50bc0e93024eab397c",
            "0780d30c381e4e6f8109e9e4b5863d2e",
            "c7d6a8c340c8401c9594820080519ee9",
            "6dc22fe50b954735aaac4d136115e1b1",
            "75a4045deeb4434aac67242c037c87a5",
            "45ccdef23c704d488b0ddb3c3e6a9e7d",
            "60bd69fd313a4f9aab25dae7bdd3d009",
            "64a199531e394b6eb77654e0a7d7b97c",
            "15723fa3138c4d6f9c9f0220ab10d048",
            "710b62165306464f894a0479353f4a39",
            "e1480dcd6f3b4e9a90b8ad5dd57b1e5b",
            "0b91add6a87747dba9d1c252db576170",
            "b87c7883a7244a7eb7e445468639b5c0",
            "6fbe807f3b294aa7a8ec2cca267db542",
            "056d614aa6b94d64a4aacf7f6fb3de2c",
            "ab104b37a30442a995a86a9b480f90cf"
          ]
        },
        "id": "vh_k6ouagA16",
        "outputId": "583441dd-c707-4737-b634-1120757296ac"
      },
      "source": [
        "train = trv.datasets.MNIST('', train = True, transform = trv.transforms.ToTensor(), download=True)\n",
        "test = trv.datasets.MNIST('', train = False, transform = trv.transforms.ToTensor(), download=True)"
      ],
      "execution_count": 4,
      "outputs": [
        {
          "output_type": "stream",
          "text": [
            "Downloading http://yann.lecun.com/exdb/mnist/train-images-idx3-ubyte.gz\n",
            "Downloading http://yann.lecun.com/exdb/mnist/train-images-idx3-ubyte.gz to MNIST/raw/train-images-idx3-ubyte.gz\n"
          ],
          "name": "stdout"
        },
        {
          "output_type": "display_data",
          "data": {
            "application/vnd.jupyter.widget-view+json": {
              "model_id": "ddb9e2fa5183460bb98a36bf61a136bb",
              "version_minor": 0,
              "version_major": 2
            },
            "text/plain": [
              "HBox(children=(FloatProgress(value=0.0, max=9912422.0), HTML(value='')))"
            ]
          },
          "metadata": {
            "tags": []
          }
        },
        {
          "output_type": "stream",
          "text": [
            "\n",
            "Extracting MNIST/raw/train-images-idx3-ubyte.gz to MNIST/raw\n",
            "\n",
            "Downloading http://yann.lecun.com/exdb/mnist/train-labels-idx1-ubyte.gz\n",
            "Downloading http://yann.lecun.com/exdb/mnist/train-labels-idx1-ubyte.gz to MNIST/raw/train-labels-idx1-ubyte.gz\n"
          ],
          "name": "stdout"
        },
        {
          "output_type": "display_data",
          "data": {
            "application/vnd.jupyter.widget-view+json": {
              "model_id": "137950307815411f9d09c55085aea518",
              "version_minor": 0,
              "version_major": 2
            },
            "text/plain": [
              "HBox(children=(FloatProgress(value=0.0, max=28881.0), HTML(value='')))"
            ]
          },
          "metadata": {
            "tags": []
          }
        },
        {
          "output_type": "stream",
          "text": [
            "\n",
            "Extracting MNIST/raw/train-labels-idx1-ubyte.gz to MNIST/raw\n",
            "\n",
            "Downloading http://yann.lecun.com/exdb/mnist/t10k-images-idx3-ubyte.gz\n",
            "Downloading http://yann.lecun.com/exdb/mnist/t10k-images-idx3-ubyte.gz to MNIST/raw/t10k-images-idx3-ubyte.gz\n"
          ],
          "name": "stdout"
        },
        {
          "output_type": "display_data",
          "data": {
            "application/vnd.jupyter.widget-view+json": {
              "model_id": "658a0d2468874f50bc0e93024eab397c",
              "version_minor": 0,
              "version_major": 2
            },
            "text/plain": [
              "HBox(children=(FloatProgress(value=0.0, max=1648877.0), HTML(value='')))"
            ]
          },
          "metadata": {
            "tags": []
          }
        },
        {
          "output_type": "stream",
          "text": [
            "\n",
            "Extracting MNIST/raw/t10k-images-idx3-ubyte.gz to MNIST/raw\n",
            "\n",
            "Downloading http://yann.lecun.com/exdb/mnist/t10k-labels-idx1-ubyte.gz\n",
            "Downloading http://yann.lecun.com/exdb/mnist/t10k-labels-idx1-ubyte.gz to MNIST/raw/t10k-labels-idx1-ubyte.gz\n"
          ],
          "name": "stdout"
        },
        {
          "output_type": "display_data",
          "data": {
            "application/vnd.jupyter.widget-view+json": {
              "model_id": "15723fa3138c4d6f9c9f0220ab10d048",
              "version_minor": 0,
              "version_major": 2
            },
            "text/plain": [
              "HBox(children=(FloatProgress(value=0.0, max=4542.0), HTML(value='')))"
            ]
          },
          "metadata": {
            "tags": []
          }
        },
        {
          "output_type": "stream",
          "text": [
            "\n",
            "Extracting MNIST/raw/t10k-labels-idx1-ubyte.gz to MNIST/raw\n",
            "\n",
            "Processing...\n",
            "Done!\n"
          ],
          "name": "stdout"
        },
        {
          "output_type": "stream",
          "text": [
            "/usr/local/lib/python3.7/dist-packages/torchvision/datasets/mnist.py:502: UserWarning: The given NumPy array is not writeable, and PyTorch does not support non-writeable tensors. This means you can write to the underlying (supposedly non-writeable) NumPy array using the tensor. You may want to copy the array to protect its data or make it writeable before converting it to a tensor. This type of warning will be suppressed for the rest of this program. (Triggered internally at  /pytorch/torch/csrc/utils/tensor_numpy.cpp:143.)\n",
            "  return torch.from_numpy(parsed.astype(m[2], copy=False)).view(*s)\n"
          ],
          "name": "stderr"
        }
      ]
    },
    {
      "cell_type": "code",
      "metadata": {
        "id": "dZR_ZCxziibM"
      },
      "source": [
        "batch_size = 1000\n",
        "data_train = tr.utils.data.DataLoader(train, batch_size = batch_size,shuffle=True)\n",
        "data_test = tr.utils.data.DataLoader(test, batch_size = test.targets.shape[0])"
      ],
      "execution_count": 62,
      "outputs": []
    },
    {
      "cell_type": "code",
      "metadata": {
        "colab": {
          "base_uri": "https://localhost:8080/"
        },
        "id": "pFVqzD1ckD4c",
        "outputId": "86819c9e-3922-43f0-da46-16dd788a6a95"
      },
      "source": [
        "dev = tr.device('cuda:0' if tr.cuda.is_available() else 'cpu')\n",
        "print(f\"work on {(tr.cuda.get_device_name() if dev.type == 'cuda' else 'cpu')}\")"
      ],
      "execution_count": 16,
      "outputs": [
        {
          "output_type": "stream",
          "text": [
            "work on Tesla V100-SXM2-16GB\n"
          ],
          "name": "stdout"
        }
      ]
    },
    {
      "cell_type": "code",
      "metadata": {
        "id": "yGegCMqDmBO-"
      },
      "source": [
        "class LeNet1(tr.nn.Module):\n",
        "    def __init__(self):\n",
        "        super().__init__()\n",
        "        self.conv1 = tr.nn.Conv2d(1, 6, 5)\n",
        "        self.conv2 = tr.nn.Conv2d(6, 16, 5)\n",
        "        self.pool = tr.nn.MaxPool2d(2)\n",
        "        self.flat = tr.nn.Flatten()\n",
        "        self.fc1 = tr.nn.Linear(16 * 4 * 4, 120)\n",
        "        self.fc2 = tr.nn.Linear(120, 84)\n",
        "        self.fc3 = tr.nn.Linear(84, 10)\n",
        "    def forward(self, input):\n",
        "        x = self.pool(self.conv1(input))\n",
        "        x = self.pool(self.conv2(x))\n",
        "        x = self.flat(x)\n",
        "        x = self.fc1(x)\n",
        "        x = self.fc2(x)\n",
        "        x = self.fc3(x)\n",
        "        return x"
      ],
      "execution_count": 51,
      "outputs": []
    },
    {
      "cell_type": "code",
      "metadata": {
        "colab": {
          "base_uri": "https://localhost:8080/",
          "height": 894
        },
        "id": "wKUY0iA0xaK2",
        "outputId": "81cd9d28-3a1d-4b73-9931-d0c6c3c6bf40"
      },
      "source": [
        "model = LeNet1().to(dev)\n",
        "optim = tr.optim.Adam(model.parameters())\n",
        "crit = tr.nn.CrossEntropyLoss()\n",
        "n_iters = 100\n",
        "\n",
        "for iter in range(n_iters):\n",
        "    model.train()\n",
        "    for X, y in data_train:\n",
        "        X, y = X.to(dev), y.to(dev)\n",
        "        optim.zero_grad()\n",
        "        pred = model(X)\n",
        "        loss = crit(pred, y)\n",
        "        loss.backward()\n",
        "        optim.step()\n",
        "        train_score = tr.sum(tr.argmax(pred, axis=1) == y).item() / y.shape[0]\n",
        "\n",
        "    model.eval()\n",
        "    for X, y in data_test:\n",
        "        X, y = X.to(dev), y.to(dev)\n",
        "        pred = model(X)\n",
        "        test_score = tr.sum(tr.argmax(pred, axis=1) == y).item() / y.shape[0]\n",
        "        print(f'iter {iter}, loss = {loss}, train score = {train_score}, test score = {test_score}')\n",
        "    if test_score > 0.98:\n",
        "        break"
      ],
      "execution_count": 65,
      "outputs": [
        {
          "output_type": "stream",
          "text": [
            "iter 0, loss = 0.3972473442554474, train score = 0.869, test score = 0.8801\n",
            "iter 1, loss = 0.2685721814632416, train score = 0.92, test score = 0.9286\n",
            "iter 2, loss = 0.1951950490474701, train score = 0.94, test score = 0.9512\n",
            "iter 3, loss = 0.11497851461172104, train score = 0.965, test score = 0.9645\n",
            "iter 4, loss = 0.1305743157863617, train score = 0.964, test score = 0.9706\n",
            "iter 5, loss = 0.10451018810272217, train score = 0.97, test score = 0.9752\n",
            "iter 6, loss = 0.08759859204292297, train score = 0.975, test score = 0.9765\n",
            "iter 7, loss = 0.08988972753286362, train score = 0.962, test score = 0.9765\n",
            "iter 8, loss = 0.059440452605485916, train score = 0.978, test score = 0.978\n",
            "iter 9, loss = 0.06395965814590454, train score = 0.979, test score = 0.9796\n",
            "iter 10, loss = 0.05603653937578201, train score = 0.98, test score = 0.9796\n",
            "iter 11, loss = 0.060512177646160126, train score = 0.979, test score = 0.9799\n",
            "iter 12, loss = 0.047073084861040115, train score = 0.982, test score = 0.9781\n",
            "iter 13, loss = 0.04421728104352951, train score = 0.985, test score = 0.9792\n",
            "iter 14, loss = 0.05134221538901329, train score = 0.984, test score = 0.9788\n",
            "iter 15, loss = 0.0679534375667572, train score = 0.98, test score = 0.9821\n",
            "iter 16, loss = 0.05755698308348656, train score = 0.984, test score = 0.9825\n",
            "iter 17, loss = 0.04548114538192749, train score = 0.983, test score = 0.9818\n",
            "iter 18, loss = 0.03768524155020714, train score = 0.987, test score = 0.9842\n",
            "iter 19, loss = 0.030736859887838364, train score = 0.987, test score = 0.9856\n",
            "iter 20, loss = 0.05276881530880928, train score = 0.984, test score = 0.9827\n",
            "iter 21, loss = 0.028157226741313934, train score = 0.992, test score = 0.9845\n",
            "iter 22, loss = 0.046480968594551086, train score = 0.977, test score = 0.9834\n",
            "iter 23, loss = 0.03463639318943024, train score = 0.988, test score = 0.9842\n",
            "iter 24, loss = 0.048067666590213776, train score = 0.986, test score = 0.9852\n",
            "iter 25, loss = 0.02542725019156933, train score = 0.993, test score = 0.9846\n",
            "iter 26, loss = 0.037133101373910904, train score = 0.989, test score = 0.9844\n",
            "iter 27, loss = 0.03246906399726868, train score = 0.992, test score = 0.9842\n",
            "iter 28, loss = 0.03233620524406433, train score = 0.991, test score = 0.9849\n"
          ],
          "name": "stdout"
        },
        {
          "output_type": "error",
          "ename": "KeyboardInterrupt",
          "evalue": "ignored",
          "traceback": [
            "\u001b[0;31m---------------------------------------------------------------------------\u001b[0m",
            "\u001b[0;31mKeyboardInterrupt\u001b[0m                         Traceback (most recent call last)",
            "\u001b[0;32m<ipython-input-65-22e78a5d7d52>\u001b[0m in \u001b[0;36m<module>\u001b[0;34m()\u001b[0m\n\u001b[1;32m      6\u001b[0m \u001b[0;32mfor\u001b[0m \u001b[0miter\u001b[0m \u001b[0;32min\u001b[0m \u001b[0mrange\u001b[0m\u001b[0;34m(\u001b[0m\u001b[0mn_iters\u001b[0m\u001b[0;34m)\u001b[0m\u001b[0;34m:\u001b[0m\u001b[0;34m\u001b[0m\u001b[0;34m\u001b[0m\u001b[0m\n\u001b[1;32m      7\u001b[0m     \u001b[0mmodel\u001b[0m\u001b[0;34m.\u001b[0m\u001b[0mtrain\u001b[0m\u001b[0;34m(\u001b[0m\u001b[0;34m)\u001b[0m\u001b[0;34m\u001b[0m\u001b[0;34m\u001b[0m\u001b[0m\n\u001b[0;32m----> 8\u001b[0;31m     \u001b[0;32mfor\u001b[0m \u001b[0mX\u001b[0m\u001b[0;34m,\u001b[0m \u001b[0my\u001b[0m \u001b[0;32min\u001b[0m \u001b[0mdata_train\u001b[0m\u001b[0;34m:\u001b[0m\u001b[0;34m\u001b[0m\u001b[0;34m\u001b[0m\u001b[0m\n\u001b[0m\u001b[1;32m      9\u001b[0m         \u001b[0mX\u001b[0m\u001b[0;34m,\u001b[0m \u001b[0my\u001b[0m \u001b[0;34m=\u001b[0m \u001b[0mX\u001b[0m\u001b[0;34m.\u001b[0m\u001b[0mto\u001b[0m\u001b[0;34m(\u001b[0m\u001b[0mdev\u001b[0m\u001b[0;34m)\u001b[0m\u001b[0;34m,\u001b[0m \u001b[0my\u001b[0m\u001b[0;34m.\u001b[0m\u001b[0mto\u001b[0m\u001b[0;34m(\u001b[0m\u001b[0mdev\u001b[0m\u001b[0;34m)\u001b[0m\u001b[0;34m\u001b[0m\u001b[0;34m\u001b[0m\u001b[0m\n\u001b[1;32m     10\u001b[0m         \u001b[0moptim\u001b[0m\u001b[0;34m.\u001b[0m\u001b[0mzero_grad\u001b[0m\u001b[0;34m(\u001b[0m\u001b[0;34m)\u001b[0m\u001b[0;34m\u001b[0m\u001b[0;34m\u001b[0m\u001b[0m\n",
            "\u001b[0;32m/usr/local/lib/python3.7/dist-packages/torch/utils/data/dataloader.py\u001b[0m in \u001b[0;36m__next__\u001b[0;34m(self)\u001b[0m\n\u001b[1;32m    515\u001b[0m             \u001b[0;32mif\u001b[0m \u001b[0mself\u001b[0m\u001b[0;34m.\u001b[0m\u001b[0m_sampler_iter\u001b[0m \u001b[0;32mis\u001b[0m \u001b[0;32mNone\u001b[0m\u001b[0;34m:\u001b[0m\u001b[0;34m\u001b[0m\u001b[0;34m\u001b[0m\u001b[0m\n\u001b[1;32m    516\u001b[0m                 \u001b[0mself\u001b[0m\u001b[0;34m.\u001b[0m\u001b[0m_reset\u001b[0m\u001b[0;34m(\u001b[0m\u001b[0;34m)\u001b[0m\u001b[0;34m\u001b[0m\u001b[0;34m\u001b[0m\u001b[0m\n\u001b[0;32m--> 517\u001b[0;31m             \u001b[0mdata\u001b[0m \u001b[0;34m=\u001b[0m \u001b[0mself\u001b[0m\u001b[0;34m.\u001b[0m\u001b[0m_next_data\u001b[0m\u001b[0;34m(\u001b[0m\u001b[0;34m)\u001b[0m\u001b[0;34m\u001b[0m\u001b[0;34m\u001b[0m\u001b[0m\n\u001b[0m\u001b[1;32m    518\u001b[0m             \u001b[0mself\u001b[0m\u001b[0;34m.\u001b[0m\u001b[0m_num_yielded\u001b[0m \u001b[0;34m+=\u001b[0m \u001b[0;36m1\u001b[0m\u001b[0;34m\u001b[0m\u001b[0;34m\u001b[0m\u001b[0m\n\u001b[1;32m    519\u001b[0m             \u001b[0;32mif\u001b[0m \u001b[0mself\u001b[0m\u001b[0;34m.\u001b[0m\u001b[0m_dataset_kind\u001b[0m \u001b[0;34m==\u001b[0m \u001b[0m_DatasetKind\u001b[0m\u001b[0;34m.\u001b[0m\u001b[0mIterable\u001b[0m \u001b[0;32mand\u001b[0m\u001b[0;31m \u001b[0m\u001b[0;31m\\\u001b[0m\u001b[0;34m\u001b[0m\u001b[0;34m\u001b[0m\u001b[0m\n",
            "\u001b[0;32m/usr/local/lib/python3.7/dist-packages/torch/utils/data/dataloader.py\u001b[0m in \u001b[0;36m_next_data\u001b[0;34m(self)\u001b[0m\n\u001b[1;32m    555\u001b[0m     \u001b[0;32mdef\u001b[0m \u001b[0m_next_data\u001b[0m\u001b[0;34m(\u001b[0m\u001b[0mself\u001b[0m\u001b[0;34m)\u001b[0m\u001b[0;34m:\u001b[0m\u001b[0;34m\u001b[0m\u001b[0;34m\u001b[0m\u001b[0m\n\u001b[1;32m    556\u001b[0m         \u001b[0mindex\u001b[0m \u001b[0;34m=\u001b[0m \u001b[0mself\u001b[0m\u001b[0;34m.\u001b[0m\u001b[0m_next_index\u001b[0m\u001b[0;34m(\u001b[0m\u001b[0;34m)\u001b[0m  \u001b[0;31m# may raise StopIteration\u001b[0m\u001b[0;34m\u001b[0m\u001b[0;34m\u001b[0m\u001b[0m\n\u001b[0;32m--> 557\u001b[0;31m         \u001b[0mdata\u001b[0m \u001b[0;34m=\u001b[0m \u001b[0mself\u001b[0m\u001b[0;34m.\u001b[0m\u001b[0m_dataset_fetcher\u001b[0m\u001b[0;34m.\u001b[0m\u001b[0mfetch\u001b[0m\u001b[0;34m(\u001b[0m\u001b[0mindex\u001b[0m\u001b[0;34m)\u001b[0m  \u001b[0;31m# may raise StopIteration\u001b[0m\u001b[0;34m\u001b[0m\u001b[0;34m\u001b[0m\u001b[0m\n\u001b[0m\u001b[1;32m    558\u001b[0m         \u001b[0;32mif\u001b[0m \u001b[0mself\u001b[0m\u001b[0;34m.\u001b[0m\u001b[0m_pin_memory\u001b[0m\u001b[0;34m:\u001b[0m\u001b[0;34m\u001b[0m\u001b[0;34m\u001b[0m\u001b[0m\n\u001b[1;32m    559\u001b[0m             \u001b[0mdata\u001b[0m \u001b[0;34m=\u001b[0m \u001b[0m_utils\u001b[0m\u001b[0;34m.\u001b[0m\u001b[0mpin_memory\u001b[0m\u001b[0;34m.\u001b[0m\u001b[0mpin_memory\u001b[0m\u001b[0;34m(\u001b[0m\u001b[0mdata\u001b[0m\u001b[0;34m)\u001b[0m\u001b[0;34m\u001b[0m\u001b[0;34m\u001b[0m\u001b[0m\n",
            "\u001b[0;32m/usr/local/lib/python3.7/dist-packages/torch/utils/data/_utils/fetch.py\u001b[0m in \u001b[0;36mfetch\u001b[0;34m(self, possibly_batched_index)\u001b[0m\n\u001b[1;32m     42\u001b[0m     \u001b[0;32mdef\u001b[0m \u001b[0mfetch\u001b[0m\u001b[0;34m(\u001b[0m\u001b[0mself\u001b[0m\u001b[0;34m,\u001b[0m \u001b[0mpossibly_batched_index\u001b[0m\u001b[0;34m)\u001b[0m\u001b[0;34m:\u001b[0m\u001b[0;34m\u001b[0m\u001b[0;34m\u001b[0m\u001b[0m\n\u001b[1;32m     43\u001b[0m         \u001b[0;32mif\u001b[0m \u001b[0mself\u001b[0m\u001b[0;34m.\u001b[0m\u001b[0mauto_collation\u001b[0m\u001b[0;34m:\u001b[0m\u001b[0;34m\u001b[0m\u001b[0;34m\u001b[0m\u001b[0m\n\u001b[0;32m---> 44\u001b[0;31m             \u001b[0mdata\u001b[0m \u001b[0;34m=\u001b[0m \u001b[0;34m[\u001b[0m\u001b[0mself\u001b[0m\u001b[0;34m.\u001b[0m\u001b[0mdataset\u001b[0m\u001b[0;34m[\u001b[0m\u001b[0midx\u001b[0m\u001b[0;34m]\u001b[0m \u001b[0;32mfor\u001b[0m \u001b[0midx\u001b[0m \u001b[0;32min\u001b[0m \u001b[0mpossibly_batched_index\u001b[0m\u001b[0;34m]\u001b[0m\u001b[0;34m\u001b[0m\u001b[0;34m\u001b[0m\u001b[0m\n\u001b[0m\u001b[1;32m     45\u001b[0m         \u001b[0;32melse\u001b[0m\u001b[0;34m:\u001b[0m\u001b[0;34m\u001b[0m\u001b[0;34m\u001b[0m\u001b[0m\n\u001b[1;32m     46\u001b[0m             \u001b[0mdata\u001b[0m \u001b[0;34m=\u001b[0m \u001b[0mself\u001b[0m\u001b[0;34m.\u001b[0m\u001b[0mdataset\u001b[0m\u001b[0;34m[\u001b[0m\u001b[0mpossibly_batched_index\u001b[0m\u001b[0;34m]\u001b[0m\u001b[0;34m\u001b[0m\u001b[0;34m\u001b[0m\u001b[0m\n",
            "\u001b[0;32m/usr/local/lib/python3.7/dist-packages/torch/utils/data/_utils/fetch.py\u001b[0m in \u001b[0;36m<listcomp>\u001b[0;34m(.0)\u001b[0m\n\u001b[1;32m     42\u001b[0m     \u001b[0;32mdef\u001b[0m \u001b[0mfetch\u001b[0m\u001b[0;34m(\u001b[0m\u001b[0mself\u001b[0m\u001b[0;34m,\u001b[0m \u001b[0mpossibly_batched_index\u001b[0m\u001b[0;34m)\u001b[0m\u001b[0;34m:\u001b[0m\u001b[0;34m\u001b[0m\u001b[0;34m\u001b[0m\u001b[0m\n\u001b[1;32m     43\u001b[0m         \u001b[0;32mif\u001b[0m \u001b[0mself\u001b[0m\u001b[0;34m.\u001b[0m\u001b[0mauto_collation\u001b[0m\u001b[0;34m:\u001b[0m\u001b[0;34m\u001b[0m\u001b[0;34m\u001b[0m\u001b[0m\n\u001b[0;32m---> 44\u001b[0;31m             \u001b[0mdata\u001b[0m \u001b[0;34m=\u001b[0m \u001b[0;34m[\u001b[0m\u001b[0mself\u001b[0m\u001b[0;34m.\u001b[0m\u001b[0mdataset\u001b[0m\u001b[0;34m[\u001b[0m\u001b[0midx\u001b[0m\u001b[0;34m]\u001b[0m \u001b[0;32mfor\u001b[0m \u001b[0midx\u001b[0m \u001b[0;32min\u001b[0m \u001b[0mpossibly_batched_index\u001b[0m\u001b[0;34m]\u001b[0m\u001b[0;34m\u001b[0m\u001b[0;34m\u001b[0m\u001b[0m\n\u001b[0m\u001b[1;32m     45\u001b[0m         \u001b[0;32melse\u001b[0m\u001b[0;34m:\u001b[0m\u001b[0;34m\u001b[0m\u001b[0;34m\u001b[0m\u001b[0m\n\u001b[1;32m     46\u001b[0m             \u001b[0mdata\u001b[0m \u001b[0;34m=\u001b[0m \u001b[0mself\u001b[0m\u001b[0;34m.\u001b[0m\u001b[0mdataset\u001b[0m\u001b[0;34m[\u001b[0m\u001b[0mpossibly_batched_index\u001b[0m\u001b[0;34m]\u001b[0m\u001b[0;34m\u001b[0m\u001b[0;34m\u001b[0m\u001b[0m\n",
            "\u001b[0;32m/usr/local/lib/python3.7/dist-packages/torchvision/datasets/mnist.py\u001b[0m in \u001b[0;36m__getitem__\u001b[0;34m(self, index)\u001b[0m\n\u001b[1;32m    107\u001b[0m         \u001b[0;31m# doing this so that it is consistent with all other datasets\u001b[0m\u001b[0;34m\u001b[0m\u001b[0;34m\u001b[0m\u001b[0;34m\u001b[0m\u001b[0m\n\u001b[1;32m    108\u001b[0m         \u001b[0;31m# to return a PIL Image\u001b[0m\u001b[0;34m\u001b[0m\u001b[0;34m\u001b[0m\u001b[0;34m\u001b[0m\u001b[0m\n\u001b[0;32m--> 109\u001b[0;31m         \u001b[0mimg\u001b[0m \u001b[0;34m=\u001b[0m \u001b[0mImage\u001b[0m\u001b[0;34m.\u001b[0m\u001b[0mfromarray\u001b[0m\u001b[0;34m(\u001b[0m\u001b[0mimg\u001b[0m\u001b[0;34m.\u001b[0m\u001b[0mnumpy\u001b[0m\u001b[0;34m(\u001b[0m\u001b[0;34m)\u001b[0m\u001b[0;34m,\u001b[0m \u001b[0mmode\u001b[0m\u001b[0;34m=\u001b[0m\u001b[0;34m'L'\u001b[0m\u001b[0;34m)\u001b[0m\u001b[0;34m\u001b[0m\u001b[0;34m\u001b[0m\u001b[0m\n\u001b[0m\u001b[1;32m    110\u001b[0m \u001b[0;34m\u001b[0m\u001b[0m\n\u001b[1;32m    111\u001b[0m         \u001b[0;32mif\u001b[0m \u001b[0mself\u001b[0m\u001b[0;34m.\u001b[0m\u001b[0mtransform\u001b[0m \u001b[0;32mis\u001b[0m \u001b[0;32mnot\u001b[0m \u001b[0;32mNone\u001b[0m\u001b[0;34m:\u001b[0m\u001b[0;34m\u001b[0m\u001b[0;34m\u001b[0m\u001b[0m\n",
            "\u001b[0;32m/usr/local/lib/python3.7/dist-packages/PIL/Image.py\u001b[0m in \u001b[0;36mfromarray\u001b[0;34m(obj, mode)\u001b[0m\n\u001b[1;32m   2702\u001b[0m     \u001b[0;34m.\u001b[0m\u001b[0;34m.\u001b[0m \u001b[0mversionadded\u001b[0m\u001b[0;34m:\u001b[0m\u001b[0;34m:\u001b[0m \u001b[0;36m1.1\u001b[0m\u001b[0;36m.6\u001b[0m\u001b[0;34m\u001b[0m\u001b[0;34m\u001b[0m\u001b[0m\n\u001b[1;32m   2703\u001b[0m     \"\"\"\n\u001b[0;32m-> 2704\u001b[0;31m     \u001b[0marr\u001b[0m \u001b[0;34m=\u001b[0m \u001b[0mobj\u001b[0m\u001b[0;34m.\u001b[0m\u001b[0m__array_interface__\u001b[0m\u001b[0;34m\u001b[0m\u001b[0;34m\u001b[0m\u001b[0m\n\u001b[0m\u001b[1;32m   2705\u001b[0m     \u001b[0mshape\u001b[0m \u001b[0;34m=\u001b[0m \u001b[0marr\u001b[0m\u001b[0;34m[\u001b[0m\u001b[0;34m\"shape\"\u001b[0m\u001b[0;34m]\u001b[0m\u001b[0;34m\u001b[0m\u001b[0;34m\u001b[0m\u001b[0m\n\u001b[1;32m   2706\u001b[0m     \u001b[0mndim\u001b[0m \u001b[0;34m=\u001b[0m \u001b[0mlen\u001b[0m\u001b[0;34m(\u001b[0m\u001b[0mshape\u001b[0m\u001b[0;34m)\u001b[0m\u001b[0;34m\u001b[0m\u001b[0;34m\u001b[0m\u001b[0m\n",
            "\u001b[0;31mKeyboardInterrupt\u001b[0m: "
          ]
        }
      ]
    },
    {
      "cell_type": "code",
      "metadata": {
        "colab": {
          "base_uri": "https://localhost:8080/"
        },
        "id": "fEAJah4f4bt6",
        "outputId": "06530f42-6e6e-40b0-ca7d-986361212ec5"
      },
      "source": [
        "model.eval()\n",
        "noise_size = next(iter(data_test))[0].shape[-1]\n",
        "noise = tr.nn.Linear(noise_size, noise_size, bias=False).to(dev)\n",
        "optim = tr.optim.Adam(noise.parameters())\n",
        "crit = tr.nn.CrossEntropyLoss()\n",
        "n_iters = 100\n",
        "target = 5\n",
        "train_score = 0.1\n",
        "for iter in range(n_iters):\n",
        "    noise.train()\n",
        "    for X, y in data_train:\n",
        "        X, y = X.to(dev), y.to(dev)\n",
        "        optim.zero_grad()\n",
        "        X += noise.weight\n",
        "        y = y * 0 + target\n",
        "        pred = model(X)\n",
        "        # loss = crit(pred, y) + noise.weight.abs().sum() #* 100\n",
        "        loss = crit(pred, y) * (1 - train_score) + noise.weight.abs().max() * train_score * 10\n",
        "        loss.backward()\n",
        "        optim.step()\n",
        "        train_score = tr.sum(tr.argmax(pred, axis=1) == y).item() / y.shape[0]\n",
        "\n",
        "    noise.eval()\n",
        "    for X, y in data_test:\n",
        "        X, y = X.to(dev), y.to(dev)\n",
        "        X += noise.weight\n",
        "        y = y * 0 + target\n",
        "        pred = model(X)\n",
        "        test_score = tr.sum(tr.argmax(pred, axis=1) == y).item() / y.shape[0]\n",
        "        print(f'iter {iter}, loss = {loss}, train score = {train_score}, test score = {test_score}, noise.weight.max {noise.weight.abs().max()}')"
      ],
      "execution_count": 88,
      "outputs": [
        {
          "output_type": "stream",
          "text": [
            "iter 0, loss = 11.198670387268066, train score = 0.103, test score = 0.1024, noise.weight.max 0.23129747807979584\n",
            "iter 1, loss = 5.344184398651123, train score = 0.259, test score = 0.2537, noise.weight.max 0.2765999436378479\n",
            "iter 2, loss = 2.9030704498291016, train score = 0.521, test score = 0.4899, noise.weight.max 0.3001410961151123\n",
            "iter 3, loss = 2.5654234886169434, train score = 0.67, test score = 0.6361, noise.weight.max 0.3044135272502899\n",
            "iter 4, loss = 2.5392305850982666, train score = 0.733, test score = 0.7152, noise.weight.max 0.3035467863082886\n",
            "iter 5, loss = 2.5124030113220215, train score = 0.763, test score = 0.7588, noise.weight.max 0.29894474148750305\n",
            "iter 6, loss = 2.541022777557373, train score = 0.817, test score = 0.7909, noise.weight.max 0.29605212807655334\n",
            "iter 7, loss = 2.53731107711792, train score = 0.814, test score = 0.8101, noise.weight.max 0.292877733707428\n",
            "iter 8, loss = 2.5340516567230225, train score = 0.844, test score = 0.8261, noise.weight.max 0.2909266948699951\n",
            "iter 9, loss = 2.532165050506592, train score = 0.864, test score = 0.8353, noise.weight.max 0.28867292404174805\n",
            "iter 10, loss = 2.529975414276123, train score = 0.866, test score = 0.844, noise.weight.max 0.2856396734714508\n",
            "iter 11, loss = 2.4988391399383545, train score = 0.866, test score = 0.8501, noise.weight.max 0.2825256586074829\n",
            "iter 12, loss = 2.5304818153381348, train score = 0.842, test score = 0.8571, noise.weight.max 0.27970582246780396\n",
            "iter 13, loss = 2.4946208000183105, train score = 0.865, test score = 0.8622, noise.weight.max 0.27668994665145874\n",
            "iter 14, loss = 2.4431729316711426, train score = 0.879, test score = 0.8657, noise.weight.max 0.27463874220848083\n",
            "iter 15, loss = 2.4540891647338867, train score = 0.881, test score = 0.8688, noise.weight.max 0.27281609177589417\n",
            "iter 16, loss = 2.4158337116241455, train score = 0.893, test score = 0.8704, noise.weight.max 0.2701413631439209\n",
            "iter 17, loss = 2.4040839672088623, train score = 0.863, test score = 0.8712, noise.weight.max 0.26812154054641724\n",
            "iter 18, loss = 2.4281740188598633, train score = 0.874, test score = 0.8719, noise.weight.max 0.26480787992477417\n",
            "iter 19, loss = 2.3599541187286377, train score = 0.875, test score = 0.8715, noise.weight.max 0.26314064860343933\n",
            "iter 20, loss = 2.3351387977600098, train score = 0.89, test score = 0.8709, noise.weight.max 0.2612302899360657\n",
            "iter 21, loss = 2.343871831893921, train score = 0.885, test score = 0.8694, noise.weight.max 0.25955864787101746\n",
            "iter 22, loss = 2.3137834072113037, train score = 0.866, test score = 0.8699, noise.weight.max 0.2577098309993744\n",
            "iter 23, loss = 2.346417188644409, train score = 0.872, test score = 0.8694, noise.weight.max 0.25584590435028076\n",
            "iter 24, loss = 2.266986608505249, train score = 0.868, test score = 0.8686, noise.weight.max 0.2542267441749573\n",
            "iter 25, loss = 2.2398314476013184, train score = 0.878, test score = 0.8661, noise.weight.max 0.2522853910923004\n",
            "iter 26, loss = 2.2189786434173584, train score = 0.86, test score = 0.8657, noise.weight.max 0.2503846287727356\n",
            "iter 27, loss = 2.2398366928100586, train score = 0.872, test score = 0.8637, noise.weight.max 0.24810539186000824\n",
            "iter 28, loss = 2.2710704803466797, train score = 0.868, test score = 0.8604, noise.weight.max 0.24684011936187744\n",
            "iter 29, loss = 2.194377899169922, train score = 0.875, test score = 0.8585, noise.weight.max 0.24518615007400513\n",
            "iter 30, loss = 2.163029432296753, train score = 0.87, test score = 0.8565, noise.weight.max 0.24361670017242432\n",
            "iter 31, loss = 2.1569430828094482, train score = 0.865, test score = 0.8555, noise.weight.max 0.24237437546253204\n",
            "iter 32, loss = 2.197493314743042, train score = 0.854, test score = 0.8524, noise.weight.max 0.24119260907173157\n",
            "iter 33, loss = 2.1245548725128174, train score = 0.866, test score = 0.8495, noise.weight.max 0.2400265336036682\n",
            "iter 34, loss = 2.096672296524048, train score = 0.86, test score = 0.8489, noise.weight.max 0.23822863399982452\n",
            "iter 35, loss = 2.120694160461426, train score = 0.855, test score = 0.8449, noise.weight.max 0.2369297593832016\n",
            "iter 36, loss = 2.1163907051086426, train score = 0.856, test score = 0.8428, noise.weight.max 0.23572753369808197\n",
            "iter 37, loss = 2.0979745388031006, train score = 0.858, test score = 0.84, noise.weight.max 0.2341589778661728\n",
            "iter 38, loss = 2.048691749572754, train score = 0.852, test score = 0.8381, noise.weight.max 0.23363736271858215\n",
            "iter 39, loss = 2.0441818237304688, train score = 0.871, test score = 0.8367, noise.weight.max 0.23266473412513733\n",
            "iter 40, loss = 2.063887596130371, train score = 0.855, test score = 0.8344, noise.weight.max 0.2322319746017456\n",
            "iter 41, loss = 2.063096046447754, train score = 0.846, test score = 0.8325, noise.weight.max 0.23073001205921173\n",
            "iter 42, loss = 2.0158941745758057, train score = 0.836, test score = 0.83, noise.weight.max 0.22996938228607178\n",
            "iter 43, loss = 1.9746060371398926, train score = 0.859, test score = 0.8279, noise.weight.max 0.22878536581993103\n",
            "iter 44, loss = 1.99428391456604, train score = 0.849, test score = 0.8262, noise.weight.max 0.22804631292819977\n",
            "iter 45, loss = 2.0080881118774414, train score = 0.841, test score = 0.8243, noise.weight.max 0.22729292511940002\n",
            "iter 46, loss = 1.9990601539611816, train score = 0.827, test score = 0.8223, noise.weight.max 0.2257605791091919\n",
            "iter 47, loss = 2.00832200050354, train score = 0.826, test score = 0.8203, noise.weight.max 0.22519329190254211\n",
            "iter 48, loss = 1.9639616012573242, train score = 0.83, test score = 0.818, noise.weight.max 0.22452716529369354\n",
            "iter 49, loss = 1.9578609466552734, train score = 0.819, test score = 0.815, noise.weight.max 0.22429488599300385\n",
            "iter 50, loss = 1.961358666419983, train score = 0.837, test score = 0.8134, noise.weight.max 0.2235492467880249\n",
            "iter 51, loss = 1.9531803131103516, train score = 0.845, test score = 0.8107, noise.weight.max 0.22274287045001984\n",
            "iter 52, loss = 1.9468618631362915, train score = 0.837, test score = 0.8088, noise.weight.max 0.22216938436031342\n",
            "iter 53, loss = 1.966400146484375, train score = 0.82, test score = 0.8072, noise.weight.max 0.22164425253868103\n",
            "iter 54, loss = 1.9747754335403442, train score = 0.775, test score = 0.8039, noise.weight.max 0.22124305367469788\n",
            "iter 55, loss = 1.9611223936080933, train score = 0.811, test score = 0.8023, noise.weight.max 0.22085224092006683\n",
            "iter 56, loss = 1.896660327911377, train score = 0.825, test score = 0.801, noise.weight.max 0.21993663907051086\n",
            "iter 57, loss = 1.9404112100601196, train score = 0.806, test score = 0.7994, noise.weight.max 0.21937356889247894\n",
            "iter 58, loss = 1.9093339443206787, train score = 0.819, test score = 0.7978, noise.weight.max 0.21928469836711884\n",
            "iter 59, loss = 1.9433581829071045, train score = 0.798, test score = 0.7968, noise.weight.max 0.21903127431869507\n",
            "iter 60, loss = 1.9136528968811035, train score = 0.792, test score = 0.7932, noise.weight.max 0.21840021014213562\n",
            "iter 61, loss = 1.9065297842025757, train score = 0.791, test score = 0.7929, noise.weight.max 0.2178136259317398\n",
            "iter 62, loss = 1.9437216520309448, train score = 0.797, test score = 0.7922, noise.weight.max 0.21782884001731873\n",
            "iter 63, loss = 1.910294532775879, train score = 0.809, test score = 0.79, noise.weight.max 0.217378631234169\n",
            "iter 64, loss = 1.8620555400848389, train score = 0.824, test score = 0.791, noise.weight.max 0.21708492934703827\n",
            "iter 65, loss = 1.8936331272125244, train score = 0.818, test score = 0.7892, noise.weight.max 0.21682453155517578\n",
            "iter 66, loss = 1.923582673072815, train score = 0.803, test score = 0.7886, noise.weight.max 0.2165955752134323\n",
            "iter 67, loss = 1.8810932636260986, train score = 0.798, test score = 0.7861, noise.weight.max 0.21663208305835724\n",
            "iter 68, loss = 1.860414743423462, train score = 0.815, test score = 0.786, noise.weight.max 0.21630814671516418\n",
            "iter 69, loss = 1.9016764163970947, train score = 0.797, test score = 0.7849, noise.weight.max 0.21587809920310974\n",
            "iter 70, loss = 1.8516511917114258, train score = 0.823, test score = 0.7823, noise.weight.max 0.2161693423986435\n",
            "iter 71, loss = 1.8924553394317627, train score = 0.798, test score = 0.7811, noise.weight.max 0.2159569263458252\n",
            "iter 72, loss = 1.881873369216919, train score = 0.787, test score = 0.7813, noise.weight.max 0.21570299565792084\n",
            "iter 73, loss = 1.8693029880523682, train score = 0.796, test score = 0.7806, noise.weight.max 0.21587297320365906\n",
            "iter 74, loss = 1.8813492059707642, train score = 0.8, test score = 0.7821, noise.weight.max 0.21529042720794678\n",
            "iter 75, loss = 1.893388271331787, train score = 0.805, test score = 0.7808, noise.weight.max 0.21563498675823212\n",
            "iter 76, loss = 1.8922146558761597, train score = 0.796, test score = 0.7818, noise.weight.max 0.21530339121818542\n",
            "iter 77, loss = 1.9324840307235718, train score = 0.771, test score = 0.7822, noise.weight.max 0.2154414802789688\n",
            "iter 78, loss = 1.8581531047821045, train score = 0.797, test score = 0.7816, noise.weight.max 0.21582141518592834\n",
            "iter 79, loss = 1.8998762369155884, train score = 0.8, test score = 0.7803, noise.weight.max 0.21596765518188477\n",
            "iter 80, loss = 1.896816372871399, train score = 0.773, test score = 0.7809, noise.weight.max 0.2157220095396042\n",
            "iter 81, loss = 1.8892934322357178, train score = 0.773, test score = 0.7799, noise.weight.max 0.2160521149635315\n",
            "iter 82, loss = 1.9040497541427612, train score = 0.787, test score = 0.7796, noise.weight.max 0.2155730426311493\n",
            "iter 83, loss = 1.8706791400909424, train score = 0.818, test score = 0.7807, noise.weight.max 0.21502819657325745\n",
            "iter 84, loss = 1.9022598266601562, train score = 0.797, test score = 0.7826, noise.weight.max 0.21505127847194672\n",
            "iter 85, loss = 1.874609351158142, train score = 0.789, test score = 0.7805, noise.weight.max 0.2151564508676529\n",
            "iter 86, loss = 1.9051101207733154, train score = 0.786, test score = 0.7792, noise.weight.max 0.21543797850608826\n",
            "iter 87, loss = 1.8834601640701294, train score = 0.778, test score = 0.7802, noise.weight.max 0.21558623015880585\n",
            "iter 88, loss = 1.8967970609664917, train score = 0.783, test score = 0.7784, noise.weight.max 0.21570026874542236\n",
            "iter 89, loss = 1.9239301681518555, train score = 0.779, test score = 0.7789, noise.weight.max 0.21549300849437714\n",
            "iter 90, loss = 1.8603525161743164, train score = 0.787, test score = 0.7798, noise.weight.max 0.2148972451686859\n",
            "iter 91, loss = 1.8579063415527344, train score = 0.8, test score = 0.7793, noise.weight.max 0.21476610004901886\n",
            "iter 92, loss = 1.888205885887146, train score = 0.787, test score = 0.7802, noise.weight.max 0.21456602215766907\n",
            "iter 93, loss = 1.8712973594665527, train score = 0.802, test score = 0.7792, noise.weight.max 0.2149452567100525\n",
            "iter 94, loss = 1.9033234119415283, train score = 0.778, test score = 0.7794, noise.weight.max 0.2148296982049942\n",
            "iter 95, loss = 1.9129241704940796, train score = 0.763, test score = 0.7794, noise.weight.max 0.2147844135761261\n",
            "iter 96, loss = 1.8895026445388794, train score = 0.786, test score = 0.7785, noise.weight.max 0.21497409045696259\n",
            "iter 97, loss = 1.888498067855835, train score = 0.783, test score = 0.7784, noise.weight.max 0.21443356573581696\n",
            "iter 98, loss = 1.8869801759719849, train score = 0.809, test score = 0.779, noise.weight.max 0.21479418873786926\n",
            "iter 99, loss = 1.8963656425476074, train score = 0.794, test score = 0.7799, noise.weight.max 0.21499983966350555\n"
          ],
          "name": "stdout"
        }
      ]
    },
    {
      "cell_type": "code",
      "metadata": {
        "colab": {
          "base_uri": "https://localhost:8080/",
          "height": 1000
        },
        "id": "s58B2SpqFwrb",
        "outputId": "1cf3c947-d37a-45b1-9cf9-549e938d3f7a"
      },
      "source": [
        "pics = 9\n",
        "plt.subplot(pics * 100 + 11)\n",
        "plt.imshow(noise.weight.cpu().detach(), cmap = 'gray')\n",
        "plt.title('Noise')\n",
        "for pl in range(2, pics):\n",
        "    plt.subplot(pics * 100 + 10 + pl)\n",
        "    i = tr.randint(X.shape[0], (1,)).item()\n",
        "    plt.imshow(X[i,0].cpu().detach(), cmap = 'gray')\n",
        "    plt.title(f'LeNet predict as {pred[i].argmax()}')\n",
        "plt.gcf().set_size_inches(5, 50)\n",
        "\n",
        "print(f\"\"\"При добавлении этого шума (с максимальной амплитудой {noise.weight.abs().max()}) \n",
        "к любому изображению цифры (с максимальной амплитудой {X.abs().max()})\n",
        "мы с {round(test_score, 3) * 100} % вероятностью получаем на выходе LeNet (обученной до 98.49%) результат равный {target}\"\"\")"
      ],
      "execution_count": 151,
      "outputs": [
        {
          "output_type": "stream",
          "text": [
            "При добавлении этого шума (с максимальной амплитудой 0.21499983966350555) \n",
            "к любому изображению цифры (с максимальной амплитудой 1.214999794960022)\n",
            "мы с 78.0 % вероятностью получаем на выходе LeNet (обученной до 98.49%) результат равный 5\n"
          ],
          "name": "stdout"
        },
        {
          "output_type": "display_data",
          "data": {
            "image/png": "[encoded data removed]",
            "text/plain": [
              "<Figure size 360x3600 with 8 Axes>"
            ]
          },
          "metadata": {
            "tags": [],
            "needs_background": "light"
          }
        }
      ]
    }
  ]
}