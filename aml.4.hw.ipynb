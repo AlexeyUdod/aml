{
 "cells": [
  {
   "cell_type": "markdown",
   "metadata": {},
   "source": [
    "Задание 0:\n",
    "Посчитать tpr и fpr в ноутбуке с лекции. Убедиться, что график ROC AUC получается таким же, как и штатными средствами"
   ]
  },
  {
   "cell_type": "code",
   "execution_count": null,
   "metadata": {},
   "outputs": [],
   "source": [
    "def calculate_tpr_and_fpr(y_true, y_pred_probas, alpha):\n",
    "    tp = sum((y_pred_probas > alpha) * y_true)\n",
    "    tn = sum((y_pred_probas < alpha) * (1-y_true))\n",
    "    fp = sum((y_pred_probas > alpha) * (1-y_true))\n",
    "    fn = sum((y_pred_probas < alpha) * y_true)\n",
    "    \n",
    "    tpr = tp / (tp + fn)\n",
    "    fpr = fp / (fp + tn)\n",
    "    return tpr, fpr"
   ]
  },
  {
   "cell_type": "markdown",
   "metadata": {},
   "source": [
    "Задание 1:\n",
    "\n",
    "Возьмите файл 4. kNN digits.ipynb\n",
    "В нем уже реализована загрузка датасета с рукописными цифрами\n",
    "Ваша задача обучить на нем 3 модели классификации - логистическую регрессию, дерево решений и алгоритм knn\n",
    "Для каждой модели вычислить метрику accuracy на тестовой выборке"
   ]
  },
  {
   "cell_type": "code",
   "execution_count": 66,
   "metadata": {},
   "outputs": [],
   "source": [
    "from sklearn.linear_model import LogisticRegression as lr\n",
    "from sklearn.ensemble import RandomForestClassifier as rf\n",
    "from sklearn.neighbors import KNeighborsClassifier as kn\n",
    "from sklearn.tree import DecisionTreeClassifier as dt\n",
    "from sklearn.metrics import roc_auc_score, roc_curve\n",
    "from sklearn.model_selection import train_test_split\n",
    "from sklearn.preprocessing import LabelEncoder\n",
    "import matplotlib.pyplot as plt\n",
    "from functools import reduce\n",
    "from sklearn import datasets\n",
    "import pandas as pd\n",
    "import numpy as np\n",
    "import re"
   ]
  },
  {
   "cell_type": "code",
   "execution_count": 68,
   "metadata": {},
   "outputs": [
    {
     "name": "stderr",
     "output_type": "stream",
     "text": [
      "C:\\Users\\alexe\\Anaconda3\\lib\\site-packages\\sklearn\\linear_model\\logistic.py:432: FutureWarning: Default solver will be changed to 'lbfgs' in 0.22. Specify a solver to silence this warning.\n",
      "  FutureWarning)\n",
      "C:\\Users\\alexe\\Anaconda3\\lib\\site-packages\\sklearn\\linear_model\\logistic.py:469: FutureWarning: Default multi_class will be changed to 'auto' in 0.22. Specify the multi_class option to silence this warning.\n",
      "  \"this warning.\", FutureWarning)\n",
      "C:\\Users\\alexe\\Anaconda3\\lib\\site-packages\\sklearn\\linear_model\\logistic.py:432: FutureWarning: Default solver will be changed to 'lbfgs' in 0.22. Specify a solver to silence this warning.\n",
      "  FutureWarning)\n",
      "C:\\Users\\alexe\\Anaconda3\\lib\\site-packages\\sklearn\\linear_model\\logistic.py:469: FutureWarning: Default multi_class will be changed to 'auto' in 0.22. Specify the multi_class option to silence this warning.\n",
      "  \"this warning.\", FutureWarning)\n",
      "C:\\Users\\alexe\\Anaconda3\\lib\\site-packages\\sklearn\\ensemble\\forest.py:245: FutureWarning: The default value of n_estimators will change from 10 in version 0.20 to 100 in 0.22.\n",
      "  \"10 in version 0.20 to 100 in 0.22.\", FutureWarning)\n",
      "C:\\Users\\alexe\\Anaconda3\\lib\\site-packages\\sklearn\\ensemble\\forest.py:245: FutureWarning: The default value of n_estimators will change from 10 in version 0.20 to 100 in 0.22.\n",
      "  \"10 in version 0.20 to 100 in 0.22.\", FutureWarning)\n"
     ]
    }
   ],
   "source": [
    "digits = datasets.load_digits()\n",
    "x_train, x_test, y_train, y_test = train_test_split(digits['data'], digits['target'], test_size=0.3)\n",
    "models = [lr, rf, kn, dt]\n",
    "results = reduce(lambda r,i: r.append({'model':re.findall(r'\\.(\\w+)', str(i))[-1],\n",
    "                             'accuracy_manual':sum((i().fit(x_train, y_train).predict(x_test)==y_test) / y_test.shape[0]),\n",
    "                             'accuracy_inbox':i().fit(x_train, y_train).score(x_test, y_test)},\n",
    "                             ignore_index = True), models, pd.DataFrame(columns=['model', 'accuracy_manual', 'accuracy_inbox']))"
   ]
  },
  {
   "cell_type": "code",
   "execution_count": 69,
   "metadata": {},
   "outputs": [
    {
     "data": {
      "text/html": [
       "<div>\n",
       "<style scoped>\n",
       "    .dataframe tbody tr th:only-of-type {\n",
       "        vertical-align: middle;\n",
       "    }\n",
       "\n",
       "    .dataframe tbody tr th {\n",
       "        vertical-align: top;\n",
       "    }\n",
       "\n",
       "    .dataframe thead th {\n",
       "        text-align: right;\n",
       "    }\n",
       "</style>\n",
       "<table border=\"1\" class=\"dataframe\">\n",
       "  <thead>\n",
       "    <tr style=\"text-align: right;\">\n",
       "      <th></th>\n",
       "      <th>model</th>\n",
       "      <th>accuracy_manual</th>\n",
       "      <th>accuracy_inbox</th>\n",
       "    </tr>\n",
       "  </thead>\n",
       "  <tbody>\n",
       "    <tr>\n",
       "      <td>0</td>\n",
       "      <td>LogisticRegression</td>\n",
       "      <td>0.951852</td>\n",
       "      <td>0.951852</td>\n",
       "    </tr>\n",
       "    <tr>\n",
       "      <td>1</td>\n",
       "      <td>RandomForestClassifier</td>\n",
       "      <td>0.942593</td>\n",
       "      <td>0.948148</td>\n",
       "    </tr>\n",
       "    <tr>\n",
       "      <td>2</td>\n",
       "      <td>KNeighborsClassifier</td>\n",
       "      <td>0.981481</td>\n",
       "      <td>0.981481</td>\n",
       "    </tr>\n",
       "    <tr>\n",
       "      <td>3</td>\n",
       "      <td>DecisionTreeClassifier</td>\n",
       "      <td>0.862963</td>\n",
       "      <td>0.855556</td>\n",
       "    </tr>\n",
       "  </tbody>\n",
       "</table>\n",
       "</div>"
      ],
      "text/plain": [
       "                    model  accuracy_manual  accuracy_inbox\n",
       "0      LogisticRegression         0.951852        0.951852\n",
       "1  RandomForestClassifier         0.942593        0.948148\n",
       "2    KNeighborsClassifier         0.981481        0.981481\n",
       "3  DecisionTreeClassifier         0.862963        0.855556"
      ]
     },
     "execution_count": 69,
     "metadata": {},
     "output_type": "execute_result"
    }
   ],
   "source": [
    "results"
   ]
  },
  {
   "cell_type": "markdown",
   "metadata": {},
   "source": [
    "Задание 2:\n",
    "Взять датасет titanic (прошлое задание)\n",
    "Обучить на нем 3 модели классификации - логистическую регрессию, дерево решений и алгоритм knn\n",
    "Построить график сравнения roc-кривых моделей на тестовой выборки\n",
    "Вывести ROC AUC SCORE для каждой из моделей"
   ]
  },
  {
   "cell_type": "code",
   "execution_count": 70,
   "metadata": {},
   "outputs": [
    {
     "name": "stderr",
     "output_type": "stream",
     "text": [
      "C:\\Users\\alexe\\Anaconda3\\lib\\site-packages\\ipykernel_launcher.py:7: SettingWithCopyWarning: \n",
      "A value is trying to be set on a copy of a slice from a DataFrame\n",
      "\n",
      "See the caveats in the documentation: http://pandas.pydata.org/pandas-docs/stable/user_guide/indexing.html#returning-a-view-versus-a-copy\n",
      "  import sys\n"
     ]
    },
    {
     "name": "stdout",
     "output_type": "stream",
     "text": [
      "Pclass [3 1 2]\n",
      "Sex ['male' 'female']\n",
      "SibSp [1 0 3 4 2 5 8]\n",
      "Parch [0 1 2 5 3 4 6]\n",
      "Embarked ['S' 'C' 'Q' 'NA']\n",
      "n_cabin ['N' 'C' 'E' 'G' 'D' 'A' 'B' 'F' 'T']\n",
      "title ['Mr' 'Mrs' 'Miss' 'Master' 'NA' 'Rev' 'Dr']\n"
     ]
    },
    {
     "name": "stderr",
     "output_type": "stream",
     "text": [
      "C:\\Users\\alexe\\Anaconda3\\lib\\site-packages\\ipykernel_launcher.py:16: SettingWithCopyWarning: \n",
      "A value is trying to be set on a copy of a slice from a DataFrame\n",
      "\n",
      "See the caveats in the documentation: http://pandas.pydata.org/pandas-docs/stable/user_guide/indexing.html#returning-a-view-versus-a-copy\n",
      "  app.launch_new_instance()\n",
      "C:\\Users\\alexe\\Anaconda3\\lib\\site-packages\\ipykernel_launcher.py:17: SettingWithCopyWarning: \n",
      "A value is trying to be set on a copy of a slice from a DataFrame\n",
      "\n",
      "See the caveats in the documentation: http://pandas.pydata.org/pandas-docs/stable/user_guide/indexing.html#returning-a-view-versus-a-copy\n"
     ]
    }
   ],
   "source": [
    "data = pd.read_csv(\"train.csv\")\n",
    "drop_list = ['Name', 'Ticket', 'Cabin','PassengerId']\n",
    "data.shape\n",
    "\n",
    "# берем первую букву каюты или ставим 'N'\n",
    "data['n_cabin'] = data[data.Cabin.notnull()].Cabin.str[0]\n",
    "data['n_cabin'][data['n_cabin'].isnull()] = 'N'\n",
    "\n",
    "# От имени оставляем титулы, встречающееся более чем в 0.5% записей\n",
    "data['n_name'] = data.Name.apply(lambda x: (re.findall(', (\\w+)',x)[0]))\n",
    "data['title'] =  data.n_name.apply(lambda x :x if data[data.n_name == x].shape[0] > data.shape[0]*0.005 else 'NA')\n",
    "drop_list.append('n_name')\n",
    "data.title.unique()\n",
    "\n",
    "# пропуски\n",
    "data.Embarked[data.Embarked.isnull()]  = 'NA'\n",
    "data.Age[data.Age.isnull()] = data.Age.mean()\n",
    "\n",
    "# LE\n",
    "le = LabelEncoder()\n",
    "columns_list = ['Pclass', 'Sex', 'SibSp', 'Parch', 'Embarked', 'n_cabin', 'title' ]\n",
    "for i in columns_list:\n",
    "    print(i, data[i].unique())\n",
    "    data['n_' + i] = le.fit_transform(data[i])\n",
    "    drop_list.append(i)   \n",
    "    \n",
    "# убираем лишние столбцы\n",
    "n_data = data.drop(drop_list, axis=1)"
   ]
  },
  {
   "cell_type": "code",
   "execution_count": 130,
   "metadata": {},
   "outputs": [
    {
     "name": "stderr",
     "output_type": "stream",
     "text": [
      "C:\\Users\\alexe\\Anaconda3\\lib\\site-packages\\sklearn\\linear_model\\logistic.py:432: FutureWarning: Default solver will be changed to 'lbfgs' in 0.22. Specify a solver to silence this warning.\n",
      "  FutureWarning)\n",
      "C:\\Users\\alexe\\Anaconda3\\lib\\site-packages\\sklearn\\linear_model\\logistic.py:432: FutureWarning: Default solver will be changed to 'lbfgs' in 0.22. Specify a solver to silence this warning.\n",
      "  FutureWarning)\n",
      "C:\\Users\\alexe\\Anaconda3\\lib\\site-packages\\sklearn\\ensemble\\forest.py:245: FutureWarning: The default value of n_estimators will change from 10 in version 0.20 to 100 in 0.22.\n",
      "  \"10 in version 0.20 to 100 in 0.22.\", FutureWarning)\n",
      "C:\\Users\\alexe\\Anaconda3\\lib\\site-packages\\sklearn\\ensemble\\forest.py:245: FutureWarning: The default value of n_estimators will change from 10 in version 0.20 to 100 in 0.22.\n",
      "  \"10 in version 0.20 to 100 in 0.22.\", FutureWarning)\n",
      "C:\\Users\\alexe\\Anaconda3\\lib\\site-packages\\sklearn\\linear_model\\logistic.py:432: FutureWarning: Default solver will be changed to 'lbfgs' in 0.22. Specify a solver to silence this warning.\n",
      "  FutureWarning)\n",
      "C:\\Users\\alexe\\Anaconda3\\lib\\site-packages\\sklearn\\linear_model\\logistic.py:432: FutureWarning: Default solver will be changed to 'lbfgs' in 0.22. Specify a solver to silence this warning.\n",
      "  FutureWarning)\n",
      "C:\\Users\\alexe\\Anaconda3\\lib\\site-packages\\sklearn\\ensemble\\forest.py:245: FutureWarning: The default value of n_estimators will change from 10 in version 0.20 to 100 in 0.22.\n",
      "  \"10 in version 0.20 to 100 in 0.22.\", FutureWarning)\n",
      "C:\\Users\\alexe\\Anaconda3\\lib\\site-packages\\sklearn\\ensemble\\forest.py:245: FutureWarning: The default value of n_estimators will change from 10 in version 0.20 to 100 in 0.22.\n",
      "  \"10 in version 0.20 to 100 in 0.22.\", FutureWarning)\n"
     ]
    },
    {
     "name": "stdout",
     "output_type": "stream",
     "text": [
      "                    model  accuracy  roc_auc_score\n",
      "0      LogisticRegression  0.805970       0.777911\n",
      "1  RandomForestClassifier  0.817164       0.791837\n",
      "2    KNeighborsClassifier  0.705224       0.672569\n",
      "3  DecisionTreeClassifier  0.772388       0.759664\n"
     ]
    },
    {
     "data": {
      "image/png": "[encoded data removed]",
      "text/plain": [
       "<Figure size 432x288 with 1 Axes>"
      ]
     },
     "metadata": {
      "needs_background": "light"
     },
     "output_type": "display_data"
    }
   ],
   "source": [
    "x = n_data.drop('Survived', axis = 1)\n",
    "y = n_data.Survived\n",
    "x_train, x_test, y_train, y_test = train_test_split(x, y, test_size = 0.3)\n",
    "models = [lr, rf, kn, dt]\n",
    "results = reduce(lambda r,i: r.append({'model':re.findall(r'\\.(\\w+)', str(i))[-1],\n",
    "                             'roc_auc_score':roc_auc_score(y_test, i().fit(x_train, y_train).predict(x_test)),\n",
    "                             'accuracy':i().fit(x_train, y_train).score(x_test, y_test)},\n",
    "                             ignore_index = True), models, pd.DataFrame(columns=['model', 'accuracy', 'roc_auc_score']))\n",
    "\n",
    "plot = reduce(lambda r,i: plt.plot(roc_curve(y_test, i().fit(x_train, y_train).predict(x_test))[0],\n",
    "                                      roc_curve(y_test, i().fit(x_train, y_train).predict(x_test))[1], \n",
    "                                      label=re.findall(r'\\.(\\w+)', str(i))[-1]), ['']+models)\n",
    "plt.legend()\n",
    "print(results)"
   ]
  }
 ],
 "metadata": {
  "kernelspec": {
   "display_name": "Python 3",
   "language": "python",
   "name": "python3"
  },
  "language_info": {
   "codemirror_mode": {
    "name": "ipython",
    "version": 3
   },
   "file_extension": ".py",
   "mimetype": "text/x-python",
   "name": "python",
   "nbconvert_exporter": "python",
   "pygments_lexer": "ipython3",
   "version": "3.7.4"
  }
 },
 "nbformat": 4,
 "nbformat_minor": 2
}
